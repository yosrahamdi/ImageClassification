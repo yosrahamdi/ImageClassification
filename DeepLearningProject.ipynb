{
  "nbformat": 4,
  "nbformat_minor": 0,
  "metadata": {
    "accelerator": "GPU",
    "colab": {
      "name": "DeepLearningProject.ipynb",
      "provenance": [],
      "machine_shape": "hm",
      "include_colab_link": true
    },
    "kernelspec": {
      "display_name": "Python 3",
      "language": "python",
      "name": "python3"
    },
    "language_info": {
      "codemirror_mode": {
        "name": "ipython",
        "version": 3
      },
      "file_extension": ".py",
      "mimetype": "text/x-python",
      "name": "python",
      "nbconvert_exporter": "python",
      "pygments_lexer": "ipython3",
      "version": "3.7.4"
    }
  },
  "cells": [
    {
      "cell_type": "markdown",
      "metadata": {
        "id": "view-in-github",
        "colab_type": "text"
      },
      "source": [
        "<a href=\"https://colab.research.google.com/github/yosrahamdi/ImageClassification/blob/master/DeepLearningProject.ipynb\" target=\"_parent\"><img src=\"https://colab.research.google.com/assets/colab-badge.svg\" alt=\"Open In Colab\"/></a>"
      ]
    },
    {
      "cell_type": "code",
      "metadata": {
        "colab_type": "code",
        "id": "bEvmuZ5ebDoQ",
        "outputId": "e778781e-57de-4cbe-dc6b-e2598e8c1a99",
        "colab": {
          "base_uri": "https://localhost:8080/",
          "height": 34
        }
      },
      "source": [
        "from google.colab import drive\n",
        "drive.mount('/content/gdrive')"
      ],
      "execution_count": 0,
      "outputs": [
        {
          "output_type": "stream",
          "text": [
            "Drive already mounted at /content/gdrive; to attempt to forcibly remount, call drive.mount(\"/content/gdrive\", force_remount=True).\n"
          ],
          "name": "stdout"
        }
      ]
    },
    {
      "cell_type": "code",
      "metadata": {
        "colab_type": "code",
        "id": "-F8Sni7obDuY",
        "outputId": "c67c1c0f-598e-4f2c-9e69-fa597459b066",
        "colab": {
          "base_uri": "https://localhost:8080/",
          "height": 202
        }
      },
      "source": [
        "!pip install kaggle"
      ],
      "execution_count": 0,
      "outputs": [
        {
          "output_type": "stream",
          "text": [
            "Requirement already satisfied: kaggle in /usr/local/lib/python3.6/dist-packages (1.5.6)\n",
            "Requirement already satisfied: certifi in /usr/local/lib/python3.6/dist-packages (from kaggle) (2019.11.28)\n",
            "Requirement already satisfied: python-slugify in /usr/local/lib/python3.6/dist-packages (from kaggle) (4.0.0)\n",
            "Requirement already satisfied: requests in /usr/local/lib/python3.6/dist-packages (from kaggle) (2.21.0)\n",
            "Requirement already satisfied: tqdm in /usr/local/lib/python3.6/dist-packages (from kaggle) (4.28.1)\n",
            "Requirement already satisfied: urllib3<1.25,>=1.21.1 in /usr/local/lib/python3.6/dist-packages (from kaggle) (1.24.3)\n",
            "Requirement already satisfied: python-dateutil in /usr/local/lib/python3.6/dist-packages (from kaggle) (2.6.1)\n",
            "Requirement already satisfied: six>=1.10 in /usr/local/lib/python3.6/dist-packages (from kaggle) (1.12.0)\n",
            "Requirement already satisfied: text-unidecode>=1.3 in /usr/local/lib/python3.6/dist-packages (from python-slugify->kaggle) (1.3)\n",
            "Requirement already satisfied: chardet<3.1.0,>=3.0.2 in /usr/local/lib/python3.6/dist-packages (from requests->kaggle) (3.0.4)\n",
            "Requirement already satisfied: idna<2.9,>=2.5 in /usr/local/lib/python3.6/dist-packages (from requests->kaggle) (2.8)\n"
          ],
          "name": "stdout"
        }
      ]
    },
    {
      "cell_type": "code",
      "metadata": {
        "colab_type": "code",
        "id": "y39R_4S8bDaK",
        "colab": {}
      },
      "source": [
        "!mkdir /content/kaggle\n"
      ],
      "execution_count": 0,
      "outputs": []
    },
    {
      "cell_type": "code",
      "metadata": {
        "colab_type": "code",
        "id": "66aVXATImTbU",
        "colab": {}
      },
      "source": [
        "!mkdir -p ~/.kaggle"
      ],
      "execution_count": 0,
      "outputs": []
    },
    {
      "cell_type": "code",
      "metadata": {
        "colab_type": "code",
        "id": "FGAMU9z9bDkm",
        "colab": {}
      },
      "source": [
        "import json\n",
        "token = {\"username\":\"yosrahamdi\",\"key\":\"2ccb29980025cc9f65caa5ad164d97af\"}\n",
        "with open('/content/kaggle/kaggle.json', 'w+') as file:\n",
        "    json.dump(token, file)"
      ],
      "execution_count": 0,
      "outputs": []
    },
    {
      "cell_type": "code",
      "metadata": {
        "colab_type": "code",
        "id": "BvSXP8TRbDct",
        "colab": {}
      },
      "source": [
        "!cp /content/kaggle/kaggle.json ~/.kaggle/kaggle.json"
      ],
      "execution_count": 0,
      "outputs": []
    },
    {
      "cell_type": "code",
      "metadata": {
        "colab_type": "code",
        "id": "N69S_28JbDWb",
        "outputId": "c1c0b64d-541f-4ec1-d008-47e64c867141",
        "colab": {
          "base_uri": "https://localhost:8080/",
          "height": 50
        }
      },
      "source": [
        "!kaggle config set -n path -v /content"
      ],
      "execution_count": 0,
      "outputs": [
        {
          "output_type": "stream",
          "text": [
            "Warning: Your Kaggle API key is readable by other users on this system! To fix this, you can run 'chmod 600 /root/.kaggle/kaggle.json'\n",
            "- path is now set to: /content\n"
          ],
          "name": "stdout"
        }
      ]
    },
    {
      "cell_type": "code",
      "metadata": {
        "colab_type": "code",
        "id": "7XwDsBagbDQ9",
        "outputId": "a6250f57-d90a-457e-bbc5-26aeadffcc8a",
        "colab": {
          "base_uri": "https://localhost:8080/",
          "height": 353
        }
      },
      "source": [
        "!kaggle competitions download -c ashrae-energy-prediction"
      ],
      "execution_count": 0,
      "outputs": [
        {
          "output_type": "stream",
          "text": [
            "Warning: Your Kaggle API key is readable by other users on this system! To fix this, you can run 'chmod 600 /root/.kaggle/kaggle.json'\n",
            "Warning: Looks like you're using an outdated API Version, please consider updating (server 1.5.6 / client 1.5.4)\n",
            "Downloading test.csv.zip to /content/competitions/ashrae-energy-prediction\n",
            " 87% 145M/167M [00:03<00:00, 30.7MB/s]\n",
            "100% 167M/167M [00:04<00:00, 43.5MB/s]\n",
            "Downloading weather_test.csv.zip to /content/competitions/ashrae-energy-prediction\n",
            "  0% 0.00/2.53M [00:00<?, ?B/s]\n",
            "100% 2.53M/2.53M [00:00<00:00, 83.4MB/s]\n",
            "Downloading weather_train.csv.zip to /content/competitions/ashrae-energy-prediction\n",
            "  0% 0.00/1.27M [00:00<?, ?B/s]\n",
            "100% 1.27M/1.27M [00:00<00:00, 86.0MB/s]\n",
            "Downloading train.csv.zip to /content/competitions/ashrae-energy-prediction\n",
            " 81% 97.0M/120M [00:03<00:00, 26.8MB/s]\n",
            "100% 120M/120M [00:03<00:00, 39.6MB/s] \n",
            "Downloading sample_submission.csv.zip to /content/competitions/ashrae-energy-prediction\n",
            " 87% 77.0M/88.4M [00:01<00:00, 36.7MB/s]\n",
            "100% 88.4M/88.4M [00:01<00:00, 63.1MB/s]\n",
            "Downloading building_metadata.csv to /content/competitions/ashrae-energy-prediction\n",
            "  0% 0.00/44.5k [00:00<?, ?B/s]\n",
            "100% 44.5k/44.5k [00:00<00:00, 38.5MB/s]\n"
          ],
          "name": "stdout"
        }
      ]
    },
    {
      "cell_type": "code",
      "metadata": {
        "colab_type": "code",
        "id": "ksfggc4-bDNt",
        "outputId": "9eb17bbb-c13c-4f77-bde9-9024deef9702",
        "colab": {
          "base_uri": "https://localhost:8080/",
          "height": 185
        }
      },
      "source": [
        "# unzip dataset\n",
        "!unzip /content/competitions/ashrae-energy-prediction/sample_submission.csv.zip\n",
        "!unzip /content/competitions/ashrae-energy-prediction/test.csv.zip\n",
        "!unzip /content/competitions/ashrae-energy-prediction/train.csv.zip\n",
        "!unzip /content/competitions/ashrae-energy-prediction/weather_test.csv.zip\n",
        "!unzip /content/competitions/ashrae-energy-prediction/weather_train.csv.zip"
      ],
      "execution_count": 0,
      "outputs": [
        {
          "output_type": "stream",
          "text": [
            "Archive:  /content/competitions/ashrae-energy-prediction/sample_submission.csv.zip\n",
            "  inflating: sample_submission.csv   \n",
            "Archive:  /content/competitions/ashrae-energy-prediction/test.csv.zip\n",
            "  inflating: test.csv                \n",
            "Archive:  /content/competitions/ashrae-energy-prediction/train.csv.zip\n",
            "  inflating: train.csv               \n",
            "Archive:  /content/competitions/ashrae-energy-prediction/weather_test.csv.zip\n",
            "  inflating: weather_test.csv        \n",
            "Archive:  /content/competitions/ashrae-energy-prediction/weather_train.csv.zip\n",
            "  inflating: weather_train.csv       \n"
          ],
          "name": "stdout"
        }
      ]
    },
    {
      "cell_type": "code",
      "metadata": {
        "colab_type": "code",
        "id": "LbFF3nZWa_y_",
        "colab": {}
      },
      "source": [
        "import gc\n",
        "import os\n",
        "import random\n",
        "\n",
        "\n",
        "import numpy as np\n",
        "import pandas as pd\n",
        "import seaborn as sns\n",
        "\n",
        "from matplotlib import pyplot as plt\n",
        "from sklearn.metrics import mean_squared_error\n",
        "from sklearn.preprocessing import LabelEncoder\n",
        "\n",
        "path_data = \"/content/\"\n",
        "path_train = path_data + \"train.csv\"\n",
        "path_test = path_data + \"test.csv\"\n",
        "path_building = \"/content/competitions/ashrae-energy-prediction/building_metadata.csv\"\n",
        "path_weather_train = path_data + \"weather_train.csv\"\n",
        "path_weather_test = path_data + \"weather_test.csv\"\n",
        "\n",
        "plt.style.use(\"seaborn\")\n",
        "sns.set(font_scale=1)\n",
        "\n",
        "myfavouritenumber = 0\n",
        "seed = myfavouritenumber\n",
        "random.seed(seed)"
      ],
      "execution_count": 0,
      "outputs": []
    },
    {
      "cell_type": "code",
      "metadata": {
        "id": "5o2b4pNLQD7z",
        "colab_type": "code",
        "colab": {},
        "outputId": "8baef695-9894-48d9-f9df-f7e89c75cc2e"
      },
      "source": [
        "import numpy as np \n",
        "import pandas as pd \n",
        "import gc\n",
        "\n",
        "# matplotlib and seaborn for plotting\n",
        "import matplotlib.pyplot as plt\n",
        "%matplotlib inline\n",
        "\n",
        "import seaborn as sns\n",
        "import matplotlib.patches as patches\n",
        "\n",
        "import plotly.offline as py\n",
        "py.init_notebook_mode(connected=True)\n",
        "import plotly.graph_objs as go\n",
        "import plotly.express as px\n",
        "pd.set_option('max_columns', 150)\n",
        "\n",
        "py.init_notebook_mode(connected=True)\n",
        "from plotly.offline import init_notebook_mode, iplot\n",
        "init_notebook_mode(connected=True)\n",
        "import plotly.graph_objs as go\n",
        "\n",
        "import os,random, math, psutil, pickle   "
      ],
      "execution_count": 0,
      "outputs": [
        {
          "output_type": "display_data",
          "data": {
            "text/html": [
              "        <script type=\"text/javascript\">\n",
              "        window.PlotlyConfig = {MathJaxConfig: 'local'};\n",
              "        if (window.MathJax) {MathJax.Hub.Config({SVG: {font: \"STIX-Web\"}});}\n",
              "        if (typeof require !== 'undefined') {\n",
              "        require.undef(\"plotly\");\n",
              "        requirejs.config({\n",
              "            paths: {\n",
              "                'plotly': ['https://cdn.plot.ly/plotly-latest.min']\n",
              "            }\n",
              "        });\n",
              "        require(['plotly'], function(Plotly) {\n",
              "            window._Plotly = Plotly;\n",
              "        });\n",
              "        }\n",
              "        </script>\n",
              "        "
            ]
          },
          "metadata": {
            "tags": []
          }
        },
        {
          "output_type": "display_data",
          "data": {
            "text/html": [
              "        <script type=\"text/javascript\">\n",
              "        window.PlotlyConfig = {MathJaxConfig: 'local'};\n",
              "        if (window.MathJax) {MathJax.Hub.Config({SVG: {font: \"STIX-Web\"}});}\n",
              "        if (typeof require !== 'undefined') {\n",
              "        require.undef(\"plotly\");\n",
              "        requirejs.config({\n",
              "            paths: {\n",
              "                'plotly': ['https://cdn.plot.ly/plotly-latest.min']\n",
              "            }\n",
              "        });\n",
              "        require(['plotly'], function(Plotly) {\n",
              "            window._Plotly = Plotly;\n",
              "        });\n",
              "        }\n",
              "        </script>\n",
              "        "
            ]
          },
          "metadata": {
            "tags": []
          }
        },
        {
          "output_type": "display_data",
          "data": {
            "text/html": [
              "        <script type=\"text/javascript\">\n",
              "        window.PlotlyConfig = {MathJaxConfig: 'local'};\n",
              "        if (window.MathJax) {MathJax.Hub.Config({SVG: {font: \"STIX-Web\"}});}\n",
              "        if (typeof require !== 'undefined') {\n",
              "        require.undef(\"plotly\");\n",
              "        requirejs.config({\n",
              "            paths: {\n",
              "                'plotly': ['https://cdn.plot.ly/plotly-latest.min']\n",
              "            }\n",
              "        });\n",
              "        require(['plotly'], function(Plotly) {\n",
              "            window._Plotly = Plotly;\n",
              "        });\n",
              "        }\n",
              "        </script>\n",
              "        "
            ]
          },
          "metadata": {
            "tags": []
          }
        }
      ]
    },
    {
      "cell_type": "code",
      "metadata": {
        "colab_type": "code",
        "id": "fyEyN_2Ga_zS",
        "colab": {}
      },
      "source": [
        "df_train = pd.read_csv(path_train)\n",
        "\n",
        "building = pd.read_csv(path_building)\n",
        "le = LabelEncoder()\n",
        "building.primary_use = le.fit_transform(building.primary_use)\n",
        "\n",
        "weather = pd.read_csv(path_weather_train)"
      ],
      "execution_count": 0,
      "outputs": []
    },
    {
      "cell_type": "code",
      "metadata": {
        "colab_type": "code",
        "id": "u09loOsLmuen",
        "outputId": "ecccea3e-912d-4b95-b9d0-ee5246c3df4d",
        "colab": {
          "base_uri": "https://localhost:8080/",
          "height": 195
        }
      },
      "source": [
        "df_train.head()"
      ],
      "execution_count": 0,
      "outputs": [
        {
          "output_type": "execute_result",
          "data": {
            "text/html": [
              "<div>\n",
              "<style scoped>\n",
              "    .dataframe tbody tr th:only-of-type {\n",
              "        vertical-align: middle;\n",
              "    }\n",
              "\n",
              "    .dataframe tbody tr th {\n",
              "        vertical-align: top;\n",
              "    }\n",
              "\n",
              "    .dataframe thead th {\n",
              "        text-align: right;\n",
              "    }\n",
              "</style>\n",
              "<table border=\"1\" class=\"dataframe\">\n",
              "  <thead>\n",
              "    <tr style=\"text-align: right;\">\n",
              "      <th></th>\n",
              "      <th>building_id</th>\n",
              "      <th>meter</th>\n",
              "      <th>timestamp</th>\n",
              "      <th>meter_reading</th>\n",
              "    </tr>\n",
              "  </thead>\n",
              "  <tbody>\n",
              "    <tr>\n",
              "      <th>0</th>\n",
              "      <td>0</td>\n",
              "      <td>0</td>\n",
              "      <td>2016-01-01 00:00:00</td>\n",
              "      <td>0.0</td>\n",
              "    </tr>\n",
              "    <tr>\n",
              "      <th>1</th>\n",
              "      <td>1</td>\n",
              "      <td>0</td>\n",
              "      <td>2016-01-01 00:00:00</td>\n",
              "      <td>0.0</td>\n",
              "    </tr>\n",
              "    <tr>\n",
              "      <th>2</th>\n",
              "      <td>2</td>\n",
              "      <td>0</td>\n",
              "      <td>2016-01-01 00:00:00</td>\n",
              "      <td>0.0</td>\n",
              "    </tr>\n",
              "    <tr>\n",
              "      <th>3</th>\n",
              "      <td>3</td>\n",
              "      <td>0</td>\n",
              "      <td>2016-01-01 00:00:00</td>\n",
              "      <td>0.0</td>\n",
              "    </tr>\n",
              "    <tr>\n",
              "      <th>4</th>\n",
              "      <td>4</td>\n",
              "      <td>0</td>\n",
              "      <td>2016-01-01 00:00:00</td>\n",
              "      <td>0.0</td>\n",
              "    </tr>\n",
              "  </tbody>\n",
              "</table>\n",
              "</div>"
            ],
            "text/plain": [
              "   building_id  meter            timestamp  meter_reading\n",
              "0            0      0  2016-01-01 00:00:00            0.0\n",
              "1            1      0  2016-01-01 00:00:00            0.0\n",
              "2            2      0  2016-01-01 00:00:00            0.0\n",
              "3            3      0  2016-01-01 00:00:00            0.0\n",
              "4            4      0  2016-01-01 00:00:00            0.0"
            ]
          },
          "metadata": {
            "tags": []
          },
          "execution_count": 3
        }
      ]
    },
    {
      "cell_type": "code",
      "metadata": {
        "colab_type": "code",
        "id": "hoPXD48Ca_zX",
        "outputId": "ce5c85dd-72dd-46e8-f9fa-08f1d897f996",
        "colab": {
          "base_uri": "https://localhost:8080/",
          "height": 195
        }
      },
      "source": [
        "weather.head()"
      ],
      "execution_count": 0,
      "outputs": [
        {
          "output_type": "execute_result",
          "data": {
            "text/html": [
              "<div>\n",
              "<style scoped>\n",
              "    .dataframe tbody tr th:only-of-type {\n",
              "        vertical-align: middle;\n",
              "    }\n",
              "\n",
              "    .dataframe tbody tr th {\n",
              "        vertical-align: top;\n",
              "    }\n",
              "\n",
              "    .dataframe thead th {\n",
              "        text-align: right;\n",
              "    }\n",
              "</style>\n",
              "<table border=\"1\" class=\"dataframe\">\n",
              "  <thead>\n",
              "    <tr style=\"text-align: right;\">\n",
              "      <th></th>\n",
              "      <th>site_id</th>\n",
              "      <th>timestamp</th>\n",
              "      <th>air_temperature</th>\n",
              "      <th>cloud_coverage</th>\n",
              "      <th>dew_temperature</th>\n",
              "      <th>precip_depth_1_hr</th>\n",
              "      <th>sea_level_pressure</th>\n",
              "      <th>wind_direction</th>\n",
              "      <th>wind_speed</th>\n",
              "    </tr>\n",
              "  </thead>\n",
              "  <tbody>\n",
              "    <tr>\n",
              "      <th>0</th>\n",
              "      <td>0</td>\n",
              "      <td>2016-01-01 00:00:00</td>\n",
              "      <td>25.0</td>\n",
              "      <td>6.0</td>\n",
              "      <td>20.0</td>\n",
              "      <td>NaN</td>\n",
              "      <td>1019.7</td>\n",
              "      <td>0.0</td>\n",
              "      <td>0.0</td>\n",
              "    </tr>\n",
              "    <tr>\n",
              "      <th>1</th>\n",
              "      <td>0</td>\n",
              "      <td>2016-01-01 01:00:00</td>\n",
              "      <td>24.4</td>\n",
              "      <td>NaN</td>\n",
              "      <td>21.1</td>\n",
              "      <td>-1.0</td>\n",
              "      <td>1020.2</td>\n",
              "      <td>70.0</td>\n",
              "      <td>1.5</td>\n",
              "    </tr>\n",
              "    <tr>\n",
              "      <th>2</th>\n",
              "      <td>0</td>\n",
              "      <td>2016-01-01 02:00:00</td>\n",
              "      <td>22.8</td>\n",
              "      <td>2.0</td>\n",
              "      <td>21.1</td>\n",
              "      <td>0.0</td>\n",
              "      <td>1020.2</td>\n",
              "      <td>0.0</td>\n",
              "      <td>0.0</td>\n",
              "    </tr>\n",
              "    <tr>\n",
              "      <th>3</th>\n",
              "      <td>0</td>\n",
              "      <td>2016-01-01 03:00:00</td>\n",
              "      <td>21.1</td>\n",
              "      <td>2.0</td>\n",
              "      <td>20.6</td>\n",
              "      <td>0.0</td>\n",
              "      <td>1020.1</td>\n",
              "      <td>0.0</td>\n",
              "      <td>0.0</td>\n",
              "    </tr>\n",
              "    <tr>\n",
              "      <th>4</th>\n",
              "      <td>0</td>\n",
              "      <td>2016-01-01 04:00:00</td>\n",
              "      <td>20.0</td>\n",
              "      <td>2.0</td>\n",
              "      <td>20.0</td>\n",
              "      <td>-1.0</td>\n",
              "      <td>1020.0</td>\n",
              "      <td>250.0</td>\n",
              "      <td>2.6</td>\n",
              "    </tr>\n",
              "  </tbody>\n",
              "</table>\n",
              "</div>"
            ],
            "text/plain": [
              "   site_id            timestamp  ...  wind_direction  wind_speed\n",
              "0        0  2016-01-01 00:00:00  ...             0.0         0.0\n",
              "1        0  2016-01-01 01:00:00  ...            70.0         1.5\n",
              "2        0  2016-01-01 02:00:00  ...             0.0         0.0\n",
              "3        0  2016-01-01 03:00:00  ...             0.0         0.0\n",
              "4        0  2016-01-01 04:00:00  ...           250.0         2.6\n",
              "\n",
              "[5 rows x 9 columns]"
            ]
          },
          "metadata": {
            "tags": []
          },
          "execution_count": 4
        }
      ]
    },
    {
      "cell_type": "code",
      "metadata": {
        "colab_type": "code",
        "id": "srU6m3pAr9hu",
        "outputId": "42e59621-96af-4629-fa55-9c6130fc49d5",
        "colab": {
          "base_uri": "https://localhost:8080/",
          "height": 195
        }
      },
      "source": [
        "building.head()"
      ],
      "execution_count": 0,
      "outputs": [
        {
          "output_type": "execute_result",
          "data": {
            "text/html": [
              "<div>\n",
              "<style scoped>\n",
              "    .dataframe tbody tr th:only-of-type {\n",
              "        vertical-align: middle;\n",
              "    }\n",
              "\n",
              "    .dataframe tbody tr th {\n",
              "        vertical-align: top;\n",
              "    }\n",
              "\n",
              "    .dataframe thead th {\n",
              "        text-align: right;\n",
              "    }\n",
              "</style>\n",
              "<table border=\"1\" class=\"dataframe\">\n",
              "  <thead>\n",
              "    <tr style=\"text-align: right;\">\n",
              "      <th></th>\n",
              "      <th>site_id</th>\n",
              "      <th>building_id</th>\n",
              "      <th>primary_use</th>\n",
              "      <th>square_feet</th>\n",
              "      <th>year_built</th>\n",
              "      <th>floor_count</th>\n",
              "    </tr>\n",
              "  </thead>\n",
              "  <tbody>\n",
              "    <tr>\n",
              "      <th>0</th>\n",
              "      <td>0</td>\n",
              "      <td>0</td>\n",
              "      <td>0</td>\n",
              "      <td>7432</td>\n",
              "      <td>2008.0</td>\n",
              "      <td>NaN</td>\n",
              "    </tr>\n",
              "    <tr>\n",
              "      <th>1</th>\n",
              "      <td>0</td>\n",
              "      <td>1</td>\n",
              "      <td>0</td>\n",
              "      <td>2720</td>\n",
              "      <td>2004.0</td>\n",
              "      <td>NaN</td>\n",
              "    </tr>\n",
              "    <tr>\n",
              "      <th>2</th>\n",
              "      <td>0</td>\n",
              "      <td>2</td>\n",
              "      <td>0</td>\n",
              "      <td>5376</td>\n",
              "      <td>1991.0</td>\n",
              "      <td>NaN</td>\n",
              "    </tr>\n",
              "    <tr>\n",
              "      <th>3</th>\n",
              "      <td>0</td>\n",
              "      <td>3</td>\n",
              "      <td>0</td>\n",
              "      <td>23685</td>\n",
              "      <td>2002.0</td>\n",
              "      <td>NaN</td>\n",
              "    </tr>\n",
              "    <tr>\n",
              "      <th>4</th>\n",
              "      <td>0</td>\n",
              "      <td>4</td>\n",
              "      <td>0</td>\n",
              "      <td>116607</td>\n",
              "      <td>1975.0</td>\n",
              "      <td>NaN</td>\n",
              "    </tr>\n",
              "  </tbody>\n",
              "</table>\n",
              "</div>"
            ],
            "text/plain": [
              "   site_id  building_id  primary_use  square_feet  year_built  floor_count\n",
              "0        0            0            0         7432      2008.0          NaN\n",
              "1        0            1            0         2720      2004.0          NaN\n",
              "2        0            2            0         5376      1991.0          NaN\n",
              "3        0            3            0        23685      2002.0          NaN\n",
              "4        0            4            0       116607      1975.0          NaN"
            ]
          },
          "metadata": {
            "tags": []
          },
          "execution_count": 5
        }
      ]
    },
    {
      "cell_type": "code",
      "metadata": {
        "colab_type": "code",
        "id": "BVxf2SDia_zi",
        "colab": {}
      },
      "source": [
        "## Function to reduce the DF size\n",
        "def reduce_mem_usage(df, verbose=True):\n",
        "    numerics = ['int16', 'int32', 'int64', 'float16', 'float32', 'float64']\n",
        "    start_mem = df.memory_usage().sum() / 1024**2    \n",
        "    for col in df.columns:\n",
        "        col_type = df[col].dtypes\n",
        "        if col_type in numerics:\n",
        "            c_min = df[col].min()\n",
        "            c_max = df[col].max()\n",
        "            if str(col_type)[:3] == 'int':\n",
        "                if c_min > np.iinfo(np.int8).min and c_max < np.iinfo(np.int8).max:\n",
        "                    df[col] = df[col].astype(np.int8)\n",
        "                elif c_min > np.iinfo(np.int16).min and c_max < np.iinfo(np.int16).max:\n",
        "                    df[col] = df[col].astype(np.int16)\n",
        "                elif c_min > np.iinfo(np.int32).min and c_max < np.iinfo(np.int32).max:\n",
        "                    df[col] = df[col].astype(np.int32)\n",
        "                elif c_min > np.iinfo(np.int64).min and c_max < np.iinfo(np.int64).max:\n",
        "                    df[col] = df[col].astype(np.int64)  \n",
        "            else:\n",
        "                if c_min > np.finfo(np.float16).min and c_max < np.finfo(np.float16).max:\n",
        "                    df[col] = df[col].astype(np.float16)\n",
        "                elif c_min > np.finfo(np.float32).min and c_max < np.finfo(np.float32).max:\n",
        "                    df[col] = df[col].astype(np.float32)\n",
        "                else:\n",
        "                    df[col] = df[col].astype(np.float64)    \n",
        "    end_mem = df.memory_usage().sum() / 1024**2\n",
        "    if verbose: print('Mem. usage decreased to {:5.2f} Mb ({:.1f}% reduction)'.format(end_mem, 100 * (start_mem - end_mem) / start_mem))\n",
        "    return df\n"
      ],
      "execution_count": 0,
      "outputs": []
    },
    {
      "cell_type": "code",
      "metadata": {
        "colab_type": "code",
        "id": "GX_LVw9aa_zk",
        "outputId": "0e5e0c4e-c014-4eca-96f1-2e135c88bc22",
        "colab": {
          "base_uri": "https://localhost:8080/",
          "height": 50
        }
      },
      "source": [
        "df_train = reduce_mem_usage(df_train)\n",
        "building = reduce_mem_usage(building)"
      ],
      "execution_count": 0,
      "outputs": [
        {
          "output_type": "stream",
          "text": [
            "Mem. usage decreased to 289.19 Mb (53.1% reduction)\n",
            "Mem. usage decreased to  0.02 Mb (74.9% reduction)\n"
          ],
          "name": "stdout"
        }
      ]
    },
    {
      "cell_type": "markdown",
      "metadata": {
        "id": "Z7THOyENQD8C",
        "colab_type": "text"
      },
      "source": [
        "# Data visualisation"
      ]
    },
    {
      "cell_type": "code",
      "metadata": {
        "id": "eMBOBqpFQD8D",
        "colab_type": "code",
        "colab": {},
        "outputId": "859df456-f4be-483b-8233-e231bb4f892d"
      },
      "source": [
        "plt.figure(figsize = (15,5))\n",
        "train_df['meter_reading'].plot()"
      ],
      "execution_count": 0,
      "outputs": [
        {
          "output_type": "execute_result",
          "data": {
            "text/plain": [
              "<matplotlib.axes._subplots.AxesSubplot at 0x14ef4779c88>"
            ]
          },
          "metadata": {
            "tags": []
          },
          "execution_count": 4
        },
        {
          "output_type": "display_data",
          "data": {
            "image/png": "[encoded data removed]",
            "text/plain": [
              "<Figure size 1080x360 with 1 Axes>"
            ]
          },
          "metadata": {
            "tags": [],
            "needs_background": "light"
          }
        }
      ]
    },
    {
      "cell_type": "code",
      "metadata": {
        "id": "QVMGGPyFQD8G",
        "colab_type": "code",
        "colab": {},
        "outputId": "07a99a64-4822-485a-ab9e-97521c243d34"
      },
      "source": [
        "from statsmodels.tsa.seasonal import seasonal_decompose\n",
        "\n",
        "ts= train_df.groupby([\"timestamp\"])[\"meter_reading\"].sum()\n",
        "ts.astype('float')\n",
        "plt.figure(figsize=(16,8))\n",
        "plt.title('meter_reading')\n",
        "plt.xlabel('timestamp')\n",
        "plt.ylabel('meter_reading')\n",
        "plt.plot(ts)"
      ],
      "execution_count": 0,
      "outputs": [
        {
          "output_type": "execute_result",
          "data": {
            "text/plain": [
              "[<matplotlib.lines.Line2D at 0x14e80ffccc8>]"
            ]
          },
          "metadata": {
            "tags": []
          },
          "execution_count": 6
        },
        {
          "output_type": "display_data",
          "data": {
            "image/png": "[encoded data removed]",
            "text/plain": [
              "<Figure size 1152x576 with 1 Axes>"
            ]
          },
          "metadata": {
            "tags": [],
            "needs_background": "light"
          }
        }
      ]
    },
    {
      "cell_type": "code",
      "metadata": {
        "id": "4ZlMfxNCQD8J",
        "colab_type": "code",
        "colab": {}
      },
      "source": [
        "def plot_dist_col(column):\n",
        "    \n",
        "    fig, ax = plt.subplots(figsize=(10, 10))\n",
        "    sns.distplot(weather_train_df[column].dropna(), ax=ax).set_title(column, fontsize=16)\n",
        "    plt.xlabel(column, fontsize=15)\n",
        "    plt.legend(['train'])\n",
        "    plt.show()\n"
      ],
      "execution_count": 0,
      "outputs": []
    },
    {
      "cell_type": "code",
      "metadata": {
        "id": "2-PeB80EQD8N",
        "colab_type": "code",
        "colab": {},
        "outputId": "244cd5ea-61c5-4e19-f04a-acda9f3f662b"
      },
      "source": [
        "plot_dist_col('air_temperature')"
      ],
      "execution_count": 0,
      "outputs": [
        {
          "output_type": "display_data",
          "data": {
            "image/png": "[encoded data removed]",
            "text/plain": [
              "<Figure size 720x720 with 1 Axes>"
            ]
          },
          "metadata": {
            "tags": [],
            "needs_background": "light"
          }
        }
      ]
    },
    {
      "cell_type": "code",
      "metadata": {
        "id": "JTRzcgu-QD8T",
        "colab_type": "code",
        "colab": {},
        "outputId": "61430f67-9362-4278-d212-f24eed33737d"
      },
      "source": [
        "plot_dist_col('cloud_coverage')"
      ],
      "execution_count": 0,
      "outputs": [
        {
          "output_type": "display_data",
          "data": {
            "image/png": "[encoded data removed]",
            "text/plain": [
              "<Figure size 720x720 with 1 Axes>"
            ]
          },
          "metadata": {
            "tags": [],
            "needs_background": "light"
          }
        }
      ]
    },
    {
      "cell_type": "code",
      "metadata": {
        "id": "v8hD8SLQQD8a",
        "colab_type": "code",
        "colab": {},
        "outputId": "bccc9be0-02f8-4ad5-c80c-c06f5d75a579"
      },
      "source": [
        "plot_dist_col('dew_temperature')"
      ],
      "execution_count": 0,
      "outputs": [
        {
          "output_type": "display_data",
          "data": {
            "image/png": "[encoded data removed]",
            "text/plain": [
              "<Figure size 720x720 with 1 Axes>"
            ]
          },
          "metadata": {
            "tags": [],
            "needs_background": "light"
          }
        }
      ]
    },
    {
      "cell_type": "code",
      "metadata": {
        "id": "t0mfCmssQD8c",
        "colab_type": "code",
        "colab": {},
        "outputId": "fbc0eec0-a955-43b0-bf27-84c7024e8df4"
      },
      "source": [
        "plot_dist_col('precip_depth_1_hr')"
      ],
      "execution_count": 0,
      "outputs": [
        {
          "output_type": "display_data",
          "data": {
            "image/png": "[encoded data removed]",
            "text/plain": [
              "<Figure size 720x720 with 1 Axes>"
            ]
          },
          "metadata": {
            "tags": [],
            "needs_background": "light"
          }
        }
      ]
    },
    {
      "cell_type": "code",
      "metadata": {
        "id": "89D--e9mQD8k",
        "colab_type": "code",
        "colab": {},
        "outputId": "4955fd7e-2678-4f38-c59f-8200466989c3"
      },
      "source": [
        "plot_dist_col('sea_level_pressure')"
      ],
      "execution_count": 0,
      "outputs": [
        {
          "output_type": "display_data",
          "data": {
            "image/png": "[encoded data removed]",
            "text/plain": [
              "<Figure size 720x720 with 1 Axes>"
            ]
          },
          "metadata": {
            "tags": [],
            "needs_background": "light"
          }
        }
      ]
    },
    {
      "cell_type": "code",
      "metadata": {
        "id": "oCrp3nyeQD8p",
        "colab_type": "code",
        "colab": {},
        "outputId": "6dd02300-fbf0-48eb-e377-fa5119be212b"
      },
      "source": [
        "plot_dist_col('wind_direction')"
      ],
      "execution_count": 0,
      "outputs": [
        {
          "output_type": "display_data",
          "data": {
            "image/png": "[encoded data removed]",
            "text/plain": [
              "<Figure size 720x720 with 1 Axes>"
            ]
          },
          "metadata": {
            "tags": [],
            "needs_background": "light"
          }
        }
      ]
    },
    {
      "cell_type": "code",
      "metadata": {
        "id": "GThBa2_XQD8r",
        "colab_type": "code",
        "colab": {},
        "outputId": "f41ccf32-50fa-4ff1-e425-403b056a1c60"
      },
      "source": [
        "plot_dist_col('wind_speed')"
      ],
      "execution_count": 0,
      "outputs": [
        {
          "output_type": "display_data",
          "data": {
            "image/png": "[encoded data removed]",
            "text/plain": [
              "<Figure size 720x720 with 1 Axes>"
            ]
          },
          "metadata": {
            "tags": [],
            "needs_background": "light"
          }
        }
      ]
    },
    {
      "cell_type": "code",
      "metadata": {
        "id": "conNrJyRQD8t",
        "colab_type": "code",
        "colab": {}
      },
      "source": [
        ""
      ],
      "execution_count": 0,
      "outputs": []
    },
    {
      "cell_type": "code",
      "metadata": {
        "id": "5C0_UzsgQD8u",
        "colab_type": "code",
        "colab": {}
      },
      "source": [
        ""
      ],
      "execution_count": 0,
      "outputs": []
    },
    {
      "cell_type": "markdown",
      "metadata": {
        "id": "xe9jlc8KQD8w",
        "colab_type": "text"
      },
      "source": [
        "# Data preparation"
      ]
    },
    {
      "cell_type": "code",
      "metadata": {
        "colab_type": "code",
        "id": "S-BMCU9Ta_0d",
        "colab": {}
      },
      "source": [
        "def missing_statistics(df):    \n",
        "    statitics = pd.DataFrame(df.isnull().sum()).reset_index()\n",
        "    statitics.columns=['COLUMN NAME',\"MISSING VALUES\"]\n",
        "    statitics['TOTAL ROWS'] = df.shape[0]\n",
        "    statitics['% MISSING'] = round((statitics['MISSING VALUES']/statitics['TOTAL ROWS'])*100,2)\n",
        "    return statitics"
      ],
      "execution_count": 0,
      "outputs": []
    },
    {
      "cell_type": "code",
      "metadata": {
        "colab_type": "code",
        "id": "5yiY3Yqviuhs",
        "outputId": "f000d047-f794-47e7-c1d1-428da3d71abe",
        "colab": {
          "base_uri": "https://localhost:8080/",
          "height": 314
        }
      },
      "source": [
        "missing_statistics(weather)"
      ],
      "execution_count": 0,
      "outputs": [
        {
          "output_type": "execute_result",
          "data": {
            "text/html": [
              "<div>\n",
              "<style scoped>\n",
              "    .dataframe tbody tr th:only-of-type {\n",
              "        vertical-align: middle;\n",
              "    }\n",
              "\n",
              "    .dataframe tbody tr th {\n",
              "        vertical-align: top;\n",
              "    }\n",
              "\n",
              "    .dataframe thead th {\n",
              "        text-align: right;\n",
              "    }\n",
              "</style>\n",
              "<table border=\"1\" class=\"dataframe\">\n",
              "  <thead>\n",
              "    <tr style=\"text-align: right;\">\n",
              "      <th></th>\n",
              "      <th>COLUMN NAME</th>\n",
              "      <th>MISSING VALUES</th>\n",
              "      <th>TOTAL ROWS</th>\n",
              "      <th>% MISSING</th>\n",
              "    </tr>\n",
              "  </thead>\n",
              "  <tbody>\n",
              "    <tr>\n",
              "      <th>0</th>\n",
              "      <td>site_id</td>\n",
              "      <td>0</td>\n",
              "      <td>139773</td>\n",
              "      <td>0.00</td>\n",
              "    </tr>\n",
              "    <tr>\n",
              "      <th>1</th>\n",
              "      <td>timestamp</td>\n",
              "      <td>0</td>\n",
              "      <td>139773</td>\n",
              "      <td>0.00</td>\n",
              "    </tr>\n",
              "    <tr>\n",
              "      <th>2</th>\n",
              "      <td>air_temperature</td>\n",
              "      <td>55</td>\n",
              "      <td>139773</td>\n",
              "      <td>0.04</td>\n",
              "    </tr>\n",
              "    <tr>\n",
              "      <th>3</th>\n",
              "      <td>cloud_coverage</td>\n",
              "      <td>69173</td>\n",
              "      <td>139773</td>\n",
              "      <td>49.49</td>\n",
              "    </tr>\n",
              "    <tr>\n",
              "      <th>4</th>\n",
              "      <td>dew_temperature</td>\n",
              "      <td>113</td>\n",
              "      <td>139773</td>\n",
              "      <td>0.08</td>\n",
              "    </tr>\n",
              "    <tr>\n",
              "      <th>5</th>\n",
              "      <td>precip_depth_1_hr</td>\n",
              "      <td>50289</td>\n",
              "      <td>139773</td>\n",
              "      <td>35.98</td>\n",
              "    </tr>\n",
              "    <tr>\n",
              "      <th>6</th>\n",
              "      <td>sea_level_pressure</td>\n",
              "      <td>10618</td>\n",
              "      <td>139773</td>\n",
              "      <td>7.60</td>\n",
              "    </tr>\n",
              "    <tr>\n",
              "      <th>7</th>\n",
              "      <td>wind_direction</td>\n",
              "      <td>6268</td>\n",
              "      <td>139773</td>\n",
              "      <td>4.48</td>\n",
              "    </tr>\n",
              "    <tr>\n",
              "      <th>8</th>\n",
              "      <td>wind_speed</td>\n",
              "      <td>304</td>\n",
              "      <td>139773</td>\n",
              "      <td>0.22</td>\n",
              "    </tr>\n",
              "  </tbody>\n",
              "</table>\n",
              "</div>"
            ],
            "text/plain": [
              "          COLUMN NAME  MISSING VALUES  TOTAL ROWS  % MISSING\n",
              "0             site_id               0      139773       0.00\n",
              "1           timestamp               0      139773       0.00\n",
              "2     air_temperature              55      139773       0.04\n",
              "3      cloud_coverage           69173      139773      49.49\n",
              "4     dew_temperature             113      139773       0.08\n",
              "5   precip_depth_1_hr           50289      139773      35.98\n",
              "6  sea_level_pressure           10618      139773       7.60\n",
              "7      wind_direction            6268      139773       4.48\n",
              "8          wind_speed             304      139773       0.22"
            ]
          },
          "metadata": {
            "tags": []
          },
          "execution_count": 9
        }
      ]
    },
    {
      "cell_type": "code",
      "metadata": {
        "colab_type": "code",
        "id": "7s-e8Cbsa_1O",
        "colab": {}
      },
      "source": [
        "import datetime\n",
        "def fill_weather_dataset(weather_df):\n",
        "\n",
        "    # Add new Features\n",
        "    weather_df[\"datetime\"] = pd.to_datetime(weather_df[\"timestamp\"])\n",
        "    weather_df[\"day\"] = weather_df[\"datetime\"].dt.day\n",
        "    weather_df[\"week\"] = weather_df[\"datetime\"].dt.week\n",
        "    weather_df[\"month\"] = weather_df[\"datetime\"].dt.month\n",
        "    \n",
        "    # Reset Index for Fast Update\n",
        "    weather_df = weather_df.set_index(['site_id','day','month'])\n",
        "\n",
        "    air_temperature_filler = pd.DataFrame(weather_df.groupby(['site_id','day','month'])['air_temperature'].mean(),columns=[\"air_temperature\"])\n",
        "    weather_df.update(air_temperature_filler, overwrite=False)\n",
        "\n",
        "    # Step 1\n",
        "    cloud_coverage_filler = weather_df.groupby(['site_id','day','month'])['cloud_coverage'].mean()\n",
        "    # Step 2\n",
        "    cloud_coverage_filler = pd.DataFrame(cloud_coverage_filler.fillna(),columns=[\"cloud_coverage\"])\n",
        "\n",
        "    weather_df.update(cloud_coverage_filler, overwrite=False)\n",
        "\n",
        "    due_temperature_filler = pd.DataFrame(weather_df.groupby(['site_id','day','month'])['dew_temperature'].mean(),columns=[\"dew_temperature\"])\n",
        "    weather_df.update(due_temperature_filler, overwrite=False)\n",
        "\n",
        "    # Step 1\n",
        "    sea_level_filler = weather_df.groupby(['site_id','day','month'])['sea_level_pressure'].mean()\n",
        "    # Step 2\n",
        "    sea_level_filler = pd.DataFrame(sea_level_filler.fillna(),columns=['sea_level_pressure'])\n",
        "\n",
        "    weather_df.update(sea_level_filler, overwrite=False)\n",
        "\n",
        "    wind_direction_filler =  pd.DataFrame(weather_df.groupby(['site_id','day','month'])['wind_direction'].mean(),columns=['wind_direction'])\n",
        "    weather_df.update(wind_direction_filler, overwrite=False)\n",
        "\n",
        "    wind_speed_filler =  pd.DataFrame(weather_df.groupby(['site_id','day','month'])['wind_speed'].mean(),columns=['wind_speed'])\n",
        "    weather_df.update(wind_speed_filler, overwrite=False)\n",
        "\n",
        "    # Step 1\n",
        "    precip_depth_filler = weather_df.groupby(['site_id','day','month'])['precip_depth_1_hr'].mean()\n",
        "    # Step 2\n",
        "    precip_depth_filler = pd.DataFrame(precip_depth_filler.fillna(),columns=['precip_depth_1_hr'])\n",
        "\n",
        "    weather_df.update(precip_depth_filler, overwrite=False)\n",
        "\n",
        "    weather_df = weather_df.reset_index()\n",
        "    weather_df = weather_df.drop(['datetime','day','week','month'],axis=1)\n",
        "        \n",
        "    return weather_df"
      ],
      "execution_count": 0,
      "outputs": []
    },
    {
      "cell_type": "code",
      "metadata": {
        "colab_type": "code",
        "id": "vt06c5twa_1R",
        "outputId": "900be144-8dcf-47b5-a95c-dd809ac58cbe",
        "colab": {
          "base_uri": "https://localhost:8080/",
          "height": 151
        }
      },
      "source": [
        "import datetime\n",
        "weather_train_df = fill_weather_dataset(weather)"
      ],
      "execution_count": 0,
      "outputs": [
        {
          "output_type": "stream",
          "text": [
            "/usr/local/lib/python3.6/dist-packages/ipykernel_launcher.py:15: FutureWarning: Sorting because non-concatenation axis is not aligned. A future version\n",
            "of pandas will change to not sort by default.\n",
            "\n",
            "To accept the future behavior, pass 'sort=False'.\n",
            "\n",
            "To retain the current behavior and silence the warning, pass 'sort=True'.\n",
            "\n",
            "  from ipykernel import kernelapp as app\n"
          ],
          "name": "stderr"
        }
      ]
    },
    {
      "cell_type": "code",
      "metadata": {
        "colab_type": "code",
        "id": "mDJQdYqza_1V",
        "outputId": "f0bab565-da5b-46e0-ccd5-3f83269bc5f0",
        "colab": {
          "base_uri": "https://localhost:8080/",
          "height": 314
        }
      },
      "source": [
        "missing_statistics(weather_train_df)"
      ],
      "execution_count": 0,
      "outputs": [
        {
          "output_type": "execute_result",
          "data": {
            "text/html": [
              "<div>\n",
              "<style scoped>\n",
              "    .dataframe tbody tr th:only-of-type {\n",
              "        vertical-align: middle;\n",
              "    }\n",
              "\n",
              "    .dataframe tbody tr th {\n",
              "        vertical-align: top;\n",
              "    }\n",
              "\n",
              "    .dataframe thead th {\n",
              "        text-align: right;\n",
              "    }\n",
              "</style>\n",
              "<table border=\"1\" class=\"dataframe\">\n",
              "  <thead>\n",
              "    <tr style=\"text-align: right;\">\n",
              "      <th></th>\n",
              "      <th>COLUMN NAME</th>\n",
              "      <th>MISSING VALUES</th>\n",
              "      <th>TOTAL ROWS</th>\n",
              "      <th>% MISSING</th>\n",
              "    </tr>\n",
              "  </thead>\n",
              "  <tbody>\n",
              "    <tr>\n",
              "      <th>0</th>\n",
              "      <td>site_id</td>\n",
              "      <td>0</td>\n",
              "      <td>140544</td>\n",
              "      <td>0.0</td>\n",
              "    </tr>\n",
              "    <tr>\n",
              "      <th>1</th>\n",
              "      <td>air_temperature</td>\n",
              "      <td>0</td>\n",
              "      <td>140544</td>\n",
              "      <td>0.0</td>\n",
              "    </tr>\n",
              "    <tr>\n",
              "      <th>2</th>\n",
              "      <td>cloud_coverage</td>\n",
              "      <td>0</td>\n",
              "      <td>140544</td>\n",
              "      <td>0.0</td>\n",
              "    </tr>\n",
              "    <tr>\n",
              "      <th>3</th>\n",
              "      <td>dew_temperature</td>\n",
              "      <td>0</td>\n",
              "      <td>140544</td>\n",
              "      <td>0.0</td>\n",
              "    </tr>\n",
              "    <tr>\n",
              "      <th>4</th>\n",
              "      <td>precip_depth_1_hr</td>\n",
              "      <td>0</td>\n",
              "      <td>140544</td>\n",
              "      <td>0.0</td>\n",
              "    </tr>\n",
              "    <tr>\n",
              "      <th>5</th>\n",
              "      <td>sea_level_pressure</td>\n",
              "      <td>0</td>\n",
              "      <td>140544</td>\n",
              "      <td>0.0</td>\n",
              "    </tr>\n",
              "    <tr>\n",
              "      <th>6</th>\n",
              "      <td>timestamp</td>\n",
              "      <td>0</td>\n",
              "      <td>140544</td>\n",
              "      <td>0.0</td>\n",
              "    </tr>\n",
              "    <tr>\n",
              "      <th>7</th>\n",
              "      <td>wind_direction</td>\n",
              "      <td>0</td>\n",
              "      <td>140544</td>\n",
              "      <td>0.0</td>\n",
              "    </tr>\n",
              "    <tr>\n",
              "      <th>8</th>\n",
              "      <td>wind_speed</td>\n",
              "      <td>0</td>\n",
              "      <td>140544</td>\n",
              "      <td>0.0</td>\n",
              "    </tr>\n",
              "  </tbody>\n",
              "</table>\n",
              "</div>"
            ],
            "text/plain": [
              "          COLUMN NAME  MISSING VALUES  TOTAL ROWS  % MISSING\n",
              "0             site_id               0      140544        0.0\n",
              "1     air_temperature               0      140544        0.0\n",
              "2      cloud_coverage               0      140544        0.0\n",
              "3     dew_temperature               0      140544        0.0\n",
              "4   precip_depth_1_hr               0      140544        0.0\n",
              "5  sea_level_pressure               0      140544        0.0\n",
              "6           timestamp               0      140544        0.0\n",
              "7      wind_direction               0      140544        0.0\n",
              "8          wind_speed               0      140544        0.0"
            ]
          },
          "metadata": {
            "tags": []
          },
          "execution_count": 12
        }
      ]
    },
    {
      "cell_type": "code",
      "metadata": {
        "colab_type": "code",
        "id": "HOUukDGgtgJT",
        "outputId": "e3e91b93-8cd0-4e48-efe9-b1d4b90599aa",
        "colab": {
          "base_uri": "https://localhost:8080/",
          "height": 34
        }
      },
      "source": [
        "weather_train_df = reduce_mem_usage(weather_train_df)"
      ],
      "execution_count": 0,
      "outputs": [
        {
          "output_type": "stream",
          "text": [
            "Mem. usage decreased to  3.08 Mb (68.1% reduction)\n"
          ],
          "name": "stdout"
        }
      ]
    },
    {
      "cell_type": "code",
      "metadata": {
        "colab_type": "code",
        "id": "kYrgJRMYa_1X",
        "outputId": "ca81467a-02da-4e30-9097-4ea5bf1106dd",
        "colab": {
          "base_uri": "https://localhost:8080/",
          "height": 185
        }
      },
      "source": [
        "weather_train_df.dtypes"
      ],
      "execution_count": 0,
      "outputs": [
        {
          "output_type": "execute_result",
          "data": {
            "text/plain": [
              "site_id                  int8\n",
              "air_temperature       float16\n",
              "cloud_coverage        float16\n",
              "dew_temperature       float16\n",
              "precip_depth_1_hr     float16\n",
              "sea_level_pressure    float16\n",
              "timestamp              object\n",
              "wind_direction        float16\n",
              "wind_speed            float16\n",
              "dtype: object"
            ]
          },
          "metadata": {
            "tags": []
          },
          "execution_count": 14
        }
      ]
    },
    {
      "cell_type": "code",
      "metadata": {
        "colab_type": "code",
        "id": "umbFH3Dma_1a",
        "outputId": "186e379f-20fa-4580-8a53-518b37dcea03",
        "colab": {
          "base_uri": "https://localhost:8080/",
          "height": 225
        }
      },
      "source": [
        "missing_statistics(building)"
      ],
      "execution_count": 0,
      "outputs": [
        {
          "output_type": "execute_result",
          "data": {
            "text/html": [
              "<div>\n",
              "<style scoped>\n",
              "    .dataframe tbody tr th:only-of-type {\n",
              "        vertical-align: middle;\n",
              "    }\n",
              "\n",
              "    .dataframe tbody tr th {\n",
              "        vertical-align: top;\n",
              "    }\n",
              "\n",
              "    .dataframe thead th {\n",
              "        text-align: right;\n",
              "    }\n",
              "</style>\n",
              "<table border=\"1\" class=\"dataframe\">\n",
              "  <thead>\n",
              "    <tr style=\"text-align: right;\">\n",
              "      <th></th>\n",
              "      <th>COLUMN NAME</th>\n",
              "      <th>MISSING VALUES</th>\n",
              "      <th>TOTAL ROWS</th>\n",
              "      <th>% MISSING</th>\n",
              "    </tr>\n",
              "  </thead>\n",
              "  <tbody>\n",
              "    <tr>\n",
              "      <th>0</th>\n",
              "      <td>site_id</td>\n",
              "      <td>0</td>\n",
              "      <td>1449</td>\n",
              "      <td>0.00</td>\n",
              "    </tr>\n",
              "    <tr>\n",
              "      <th>1</th>\n",
              "      <td>building_id</td>\n",
              "      <td>0</td>\n",
              "      <td>1449</td>\n",
              "      <td>0.00</td>\n",
              "    </tr>\n",
              "    <tr>\n",
              "      <th>2</th>\n",
              "      <td>primary_use</td>\n",
              "      <td>0</td>\n",
              "      <td>1449</td>\n",
              "      <td>0.00</td>\n",
              "    </tr>\n",
              "    <tr>\n",
              "      <th>3</th>\n",
              "      <td>square_feet</td>\n",
              "      <td>0</td>\n",
              "      <td>1449</td>\n",
              "      <td>0.00</td>\n",
              "    </tr>\n",
              "    <tr>\n",
              "      <th>4</th>\n",
              "      <td>year_built</td>\n",
              "      <td>774</td>\n",
              "      <td>1449</td>\n",
              "      <td>53.42</td>\n",
              "    </tr>\n",
              "    <tr>\n",
              "      <th>5</th>\n",
              "      <td>floor_count</td>\n",
              "      <td>1094</td>\n",
              "      <td>1449</td>\n",
              "      <td>75.50</td>\n",
              "    </tr>\n",
              "  </tbody>\n",
              "</table>\n",
              "</div>"
            ],
            "text/plain": [
              "   COLUMN NAME  MISSING VALUES  TOTAL ROWS  % MISSING\n",
              "0      site_id               0        1449       0.00\n",
              "1  building_id               0        1449       0.00\n",
              "2  primary_use               0        1449       0.00\n",
              "3  square_feet               0        1449       0.00\n",
              "4   year_built             774        1449      53.42\n",
              "5  floor_count            1094        1449      75.50"
            ]
          },
          "metadata": {
            "tags": []
          },
          "execution_count": 15
        }
      ]
    },
    {
      "cell_type": "code",
      "metadata": {
        "colab_type": "code",
        "id": "uK2I68yCm7Q1",
        "outputId": "90011cec-5f6c-4b91-e8da-3a94558b5085",
        "colab": {
          "base_uri": "https://localhost:8080/",
          "height": 134
        }
      },
      "source": [
        "building.dtypes"
      ],
      "execution_count": 0,
      "outputs": [
        {
          "output_type": "execute_result",
          "data": {
            "text/plain": [
              "site_id           int8\n",
              "building_id      int16\n",
              "primary_use       int8\n",
              "square_feet      int32\n",
              "year_built     float16\n",
              "floor_count    float16\n",
              "dtype: object"
            ]
          },
          "metadata": {
            "tags": []
          },
          "execution_count": 16
        }
      ]
    },
    {
      "cell_type": "code",
      "metadata": {
        "colab_type": "code",
        "id": "n5H5Rtrda_1d",
        "colab": {}
      },
      "source": [
        "building.drop(['year_built','floor_count'], axis= 1 ,inplace=True)"
      ],
      "execution_count": 0,
      "outputs": []
    },
    {
      "cell_type": "markdown",
      "metadata": {
        "id": "UiWcMxGBQD9I",
        "colab_type": "text"
      },
      "source": [
        "# Merging Data"
      ]
    },
    {
      "cell_type": "code",
      "metadata": {
        "colab_type": "code",
        "id": "O1jsF3eba_1h",
        "colab": {}
      },
      "source": [
        "data = df_train.merge(building, on=['building_id'], how='left')\n",
        "data = data.merge(weather_train_df, on=['timestamp', 'site_id'], how='left')"
      ],
      "execution_count": 0,
      "outputs": []
    },
    {
      "cell_type": "code",
      "metadata": {
        "colab_type": "code",
        "id": "OVVMx7aenDkx",
        "outputId": "0813641b-3c87-4377-ac5c-6471375ed4a4",
        "colab": {
          "base_uri": "https://localhost:8080/",
          "height": 269
        }
      },
      "source": [
        "data.dtypes"
      ],
      "execution_count": 0,
      "outputs": [
        {
          "output_type": "execute_result",
          "data": {
            "text/plain": [
              "building_id             int16\n",
              "meter                    int8\n",
              "timestamp              object\n",
              "meter_reading         float32\n",
              "site_id                  int8\n",
              "primary_use              int8\n",
              "square_feet             int32\n",
              "air_temperature       float16\n",
              "cloud_coverage        float16\n",
              "dew_temperature       float16\n",
              "precip_depth_1_hr     float16\n",
              "sea_level_pressure    float16\n",
              "wind_direction        float16\n",
              "wind_speed            float16\n",
              "dtype: object"
            ]
          },
          "metadata": {
            "tags": []
          },
          "execution_count": 19
        }
      ]
    },
    {
      "cell_type": "code",
      "metadata": {
        "colab_type": "code",
        "id": "EnTbtKsxa_1j",
        "outputId": "64742dd4-410b-4bc1-b9d5-785e1bb979fe",
        "colab": {
          "base_uri": "https://localhost:8080/",
          "height": 462
        }
      },
      "source": [
        "missing_statistics(data)"
      ],
      "execution_count": 0,
      "outputs": [
        {
          "output_type": "execute_result",
          "data": {
            "text/html": [
              "<div>\n",
              "<style scoped>\n",
              "    .dataframe tbody tr th:only-of-type {\n",
              "        vertical-align: middle;\n",
              "    }\n",
              "\n",
              "    .dataframe tbody tr th {\n",
              "        vertical-align: top;\n",
              "    }\n",
              "\n",
              "    .dataframe thead th {\n",
              "        text-align: right;\n",
              "    }\n",
              "</style>\n",
              "<table border=\"1\" class=\"dataframe\">\n",
              "  <thead>\n",
              "    <tr style=\"text-align: right;\">\n",
              "      <th></th>\n",
              "      <th>COLUMN NAME</th>\n",
              "      <th>MISSING VALUES</th>\n",
              "      <th>TOTAL ROWS</th>\n",
              "      <th>% MISSING</th>\n",
              "    </tr>\n",
              "  </thead>\n",
              "  <tbody>\n",
              "    <tr>\n",
              "      <th>0</th>\n",
              "      <td>building_id</td>\n",
              "      <td>0</td>\n",
              "      <td>20216100</td>\n",
              "      <td>0.0</td>\n",
              "    </tr>\n",
              "    <tr>\n",
              "      <th>1</th>\n",
              "      <td>meter</td>\n",
              "      <td>0</td>\n",
              "      <td>20216100</td>\n",
              "      <td>0.0</td>\n",
              "    </tr>\n",
              "    <tr>\n",
              "      <th>2</th>\n",
              "      <td>timestamp</td>\n",
              "      <td>0</td>\n",
              "      <td>20216100</td>\n",
              "      <td>0.0</td>\n",
              "    </tr>\n",
              "    <tr>\n",
              "      <th>3</th>\n",
              "      <td>meter_reading</td>\n",
              "      <td>0</td>\n",
              "      <td>20216100</td>\n",
              "      <td>0.0</td>\n",
              "    </tr>\n",
              "    <tr>\n",
              "      <th>4</th>\n",
              "      <td>site_id</td>\n",
              "      <td>0</td>\n",
              "      <td>20216100</td>\n",
              "      <td>0.0</td>\n",
              "    </tr>\n",
              "    <tr>\n",
              "      <th>5</th>\n",
              "      <td>primary_use</td>\n",
              "      <td>0</td>\n",
              "      <td>20216100</td>\n",
              "      <td>0.0</td>\n",
              "    </tr>\n",
              "    <tr>\n",
              "      <th>6</th>\n",
              "      <td>square_feet</td>\n",
              "      <td>0</td>\n",
              "      <td>20216100</td>\n",
              "      <td>0.0</td>\n",
              "    </tr>\n",
              "    <tr>\n",
              "      <th>7</th>\n",
              "      <td>air_temperature</td>\n",
              "      <td>0</td>\n",
              "      <td>20216100</td>\n",
              "      <td>0.0</td>\n",
              "    </tr>\n",
              "    <tr>\n",
              "      <th>8</th>\n",
              "      <td>cloud_coverage</td>\n",
              "      <td>0</td>\n",
              "      <td>20216100</td>\n",
              "      <td>0.0</td>\n",
              "    </tr>\n",
              "    <tr>\n",
              "      <th>9</th>\n",
              "      <td>dew_temperature</td>\n",
              "      <td>0</td>\n",
              "      <td>20216100</td>\n",
              "      <td>0.0</td>\n",
              "    </tr>\n",
              "    <tr>\n",
              "      <th>10</th>\n",
              "      <td>precip_depth_1_hr</td>\n",
              "      <td>0</td>\n",
              "      <td>20216100</td>\n",
              "      <td>0.0</td>\n",
              "    </tr>\n",
              "    <tr>\n",
              "      <th>11</th>\n",
              "      <td>sea_level_pressure</td>\n",
              "      <td>0</td>\n",
              "      <td>20216100</td>\n",
              "      <td>0.0</td>\n",
              "    </tr>\n",
              "    <tr>\n",
              "      <th>12</th>\n",
              "      <td>wind_direction</td>\n",
              "      <td>0</td>\n",
              "      <td>20216100</td>\n",
              "      <td>0.0</td>\n",
              "    </tr>\n",
              "    <tr>\n",
              "      <th>13</th>\n",
              "      <td>wind_speed</td>\n",
              "      <td>0</td>\n",
              "      <td>20216100</td>\n",
              "      <td>0.0</td>\n",
              "    </tr>\n",
              "  </tbody>\n",
              "</table>\n",
              "</div>"
            ],
            "text/plain": [
              "           COLUMN NAME  MISSING VALUES  TOTAL ROWS  % MISSING\n",
              "0          building_id               0    20216100        0.0\n",
              "1                meter               0    20216100        0.0\n",
              "2            timestamp               0    20216100        0.0\n",
              "3        meter_reading               0    20216100        0.0\n",
              "4              site_id               0    20216100        0.0\n",
              "5          primary_use               0    20216100        0.0\n",
              "6          square_feet               0    20216100        0.0\n",
              "7      air_temperature               0    20216100        0.0\n",
              "8       cloud_coverage               0    20216100        0.0\n",
              "9      dew_temperature               0    20216100        0.0\n",
              "10   precip_depth_1_hr               0    20216100        0.0\n",
              "11  sea_level_pressure               0    20216100        0.0\n",
              "12      wind_direction               0    20216100        0.0\n",
              "13          wind_speed               0    20216100        0.0"
            ]
          },
          "metadata": {
            "tags": []
          },
          "execution_count": 20
        }
      ]
    },
    {
      "cell_type": "code",
      "metadata": {
        "colab_type": "code",
        "id": "WeUMe1fFa_1l",
        "outputId": "00c325fb-a7fa-4568-91a6-77855e396162",
        "colab": {
          "base_uri": "https://localhost:8080/",
          "height": 383
        }
      },
      "source": [
        "data.head()"
      ],
      "execution_count": 0,
      "outputs": [
        {
          "output_type": "execute_result",
          "data": {
            "text/html": [
              "<div>\n",
              "<style scoped>\n",
              "    .dataframe tbody tr th:only-of-type {\n",
              "        vertical-align: middle;\n",
              "    }\n",
              "\n",
              "    .dataframe tbody tr th {\n",
              "        vertical-align: top;\n",
              "    }\n",
              "\n",
              "    .dataframe thead th {\n",
              "        text-align: right;\n",
              "    }\n",
              "</style>\n",
              "<table border=\"1\" class=\"dataframe\">\n",
              "  <thead>\n",
              "    <tr style=\"text-align: right;\">\n",
              "      <th></th>\n",
              "      <th>building_id</th>\n",
              "      <th>meter</th>\n",
              "      <th>timestamp</th>\n",
              "      <th>meter_reading</th>\n",
              "      <th>site_id</th>\n",
              "      <th>primary_use</th>\n",
              "      <th>square_feet</th>\n",
              "      <th>air_temperature</th>\n",
              "      <th>cloud_coverage</th>\n",
              "      <th>dew_temperature</th>\n",
              "      <th>precip_depth_1_hr</th>\n",
              "      <th>sea_level_pressure</th>\n",
              "      <th>wind_direction</th>\n",
              "      <th>wind_speed</th>\n",
              "    </tr>\n",
              "  </thead>\n",
              "  <tbody>\n",
              "    <tr>\n",
              "      <th>0</th>\n",
              "      <td>0</td>\n",
              "      <td>0</td>\n",
              "      <td>2016-01-01 00:00:00</td>\n",
              "      <td>0.0</td>\n",
              "      <td>0</td>\n",
              "      <td>0</td>\n",
              "      <td>7432</td>\n",
              "      <td>25.0</td>\n",
              "      <td>6.0</td>\n",
              "      <td>20.0</td>\n",
              "      <td>-0.17395</td>\n",
              "      <td>1019.5</td>\n",
              "      <td>0.0</td>\n",
              "      <td>0.0</td>\n",
              "    </tr>\n",
              "    <tr>\n",
              "      <th>1</th>\n",
              "      <td>1</td>\n",
              "      <td>0</td>\n",
              "      <td>2016-01-01 00:00:00</td>\n",
              "      <td>0.0</td>\n",
              "      <td>0</td>\n",
              "      <td>0</td>\n",
              "      <td>2720</td>\n",
              "      <td>25.0</td>\n",
              "      <td>6.0</td>\n",
              "      <td>20.0</td>\n",
              "      <td>-0.17395</td>\n",
              "      <td>1019.5</td>\n",
              "      <td>0.0</td>\n",
              "      <td>0.0</td>\n",
              "    </tr>\n",
              "    <tr>\n",
              "      <th>2</th>\n",
              "      <td>2</td>\n",
              "      <td>0</td>\n",
              "      <td>2016-01-01 00:00:00</td>\n",
              "      <td>0.0</td>\n",
              "      <td>0</td>\n",
              "      <td>0</td>\n",
              "      <td>5376</td>\n",
              "      <td>25.0</td>\n",
              "      <td>6.0</td>\n",
              "      <td>20.0</td>\n",
              "      <td>-0.17395</td>\n",
              "      <td>1019.5</td>\n",
              "      <td>0.0</td>\n",
              "      <td>0.0</td>\n",
              "    </tr>\n",
              "    <tr>\n",
              "      <th>3</th>\n",
              "      <td>3</td>\n",
              "      <td>0</td>\n",
              "      <td>2016-01-01 00:00:00</td>\n",
              "      <td>0.0</td>\n",
              "      <td>0</td>\n",
              "      <td>0</td>\n",
              "      <td>23685</td>\n",
              "      <td>25.0</td>\n",
              "      <td>6.0</td>\n",
              "      <td>20.0</td>\n",
              "      <td>-0.17395</td>\n",
              "      <td>1019.5</td>\n",
              "      <td>0.0</td>\n",
              "      <td>0.0</td>\n",
              "    </tr>\n",
              "    <tr>\n",
              "      <th>4</th>\n",
              "      <td>4</td>\n",
              "      <td>0</td>\n",
              "      <td>2016-01-01 00:00:00</td>\n",
              "      <td>0.0</td>\n",
              "      <td>0</td>\n",
              "      <td>0</td>\n",
              "      <td>116607</td>\n",
              "      <td>25.0</td>\n",
              "      <td>6.0</td>\n",
              "      <td>20.0</td>\n",
              "      <td>-0.17395</td>\n",
              "      <td>1019.5</td>\n",
              "      <td>0.0</td>\n",
              "      <td>0.0</td>\n",
              "    </tr>\n",
              "  </tbody>\n",
              "</table>\n",
              "</div>"
            ],
            "text/plain": [
              "   building_id  meter  ... wind_direction  wind_speed\n",
              "0            0      0  ...            0.0         0.0\n",
              "1            1      0  ...            0.0         0.0\n",
              "2            2      0  ...            0.0         0.0\n",
              "3            3      0  ...            0.0         0.0\n",
              "4            4      0  ...            0.0         0.0\n",
              "\n",
              "[5 rows x 14 columns]"
            ]
          },
          "metadata": {
            "tags": []
          },
          "execution_count": 21
        }
      ]
    },
    {
      "cell_type": "code",
      "metadata": {
        "colab_type": "code",
        "id": "mxP4FZaqa_1o",
        "outputId": "ae3dbfad-0786-4cf6-a6a0-facc83b06765",
        "colab": {
          "base_uri": "https://localhost:8080/",
          "height": 34
        }
      },
      "source": [
        "data.shape"
      ],
      "execution_count": 0,
      "outputs": [
        {
          "output_type": "execute_result",
          "data": {
            "text/plain": [
              "(20216100, 14)"
            ]
          },
          "metadata": {
            "tags": []
          },
          "execution_count": 22
        }
      ]
    },
    {
      "cell_type": "code",
      "metadata": {
        "colab_type": "code",
        "id": "R-wZfIqqRDpy",
        "colab": {}
      },
      "source": [
        "# scale data\n",
        " \n",
        "data.timestamp = pd.to_datetime(data.timestamp, format=\"%Y-%m-%d %H:%M:%S\")\n",
        "data['month'] = data['timestamp'].dt.month\n",
        "data['day'] = data['timestamp'].dt.weekday\n",
        "data['year'] = data['timestamp'].dt.year\n",
        "data['hour'] = data['timestamp'].dt.hour\n",
        "\n",
        "data['square_feet'] = data['square_feet'].astype('float32')\n",
        "data['square_feet'] -= data['square_feet'].mean(axis=0)\n",
        "std = data['square_feet'].std(axis=0)\n",
        "data['square_feet'] /= data['square_feet'].std(axis=0)\n",
        "\n",
        "weather_scale = ['air_temperature', 'cloud_coverage', 'dew_temperature', 'sea_level_pressure', 'wind_speed']\n",
        "\n",
        "data[weather_scale] = data[weather_scale].astype('float32')\n",
        "data[weather_scale] -= data[weather_scale].mean(axis=0)\n",
        "std = data[weather_scale].std(axis=0)\n",
        "data[weather_scale] /= data[weather_scale].std(axis=0)\n",
        "\n",
        "data['wind_direction'+'_sin'] = np.sin((2*np.pi*data['wind_direction'])/360)\n",
        "data['wind_direction'+'_cos'] = np.cos((2*np.pi*data['wind_direction'])/360)\n",
        "data = data.drop(['wind_direction'], axis=1)"
      ],
      "execution_count": 0,
      "outputs": []
    },
    {
      "cell_type": "code",
      "metadata": {
        "colab_type": "code",
        "id": "ZOPK0JrOtlM0",
        "outputId": "5c4cfc2e-5109-49b3-c4f8-ea876b9586f0",
        "colab": {
          "base_uri": "https://localhost:8080/",
          "height": 218
        }
      },
      "source": [
        "data['square_feet']"
      ],
      "execution_count": 0,
      "outputs": [
        {
          "output_type": "execute_result",
          "data": {
            "text/plain": [
              "0          -0.827015\n",
              "1          -0.867240\n",
              "2          -0.844566\n",
              "3          -0.688269\n",
              "4           0.104970\n",
              "              ...   \n",
              "20216095   -0.722979\n",
              "20216096   -0.853769\n",
              "20216097   -0.794294\n",
              "20216098   -0.636281\n",
              "20216099   -0.102777\n",
              "Name: square_feet, Length: 20216100, dtype: float64"
            ]
          },
          "metadata": {
            "tags": []
          },
          "execution_count": 26
        }
      ]
    },
    {
      "cell_type": "code",
      "metadata": {
        "colab_type": "code",
        "id": "zriR2EfEa_2m",
        "outputId": "4ccf2f32-f9c0-4f6a-c930-76032b056be2",
        "colab": {
          "base_uri": "https://localhost:8080/",
          "height": 299
        }
      },
      "source": [
        "data.head()"
      ],
      "execution_count": 0,
      "outputs": [
        {
          "output_type": "execute_result",
          "data": {
            "text/html": [
              "<div>\n",
              "<style scoped>\n",
              "    .dataframe tbody tr th:only-of-type {\n",
              "        vertical-align: middle;\n",
              "    }\n",
              "\n",
              "    .dataframe tbody tr th {\n",
              "        vertical-align: top;\n",
              "    }\n",
              "\n",
              "    .dataframe thead th {\n",
              "        text-align: right;\n",
              "    }\n",
              "</style>\n",
              "<table border=\"1\" class=\"dataframe\">\n",
              "  <thead>\n",
              "    <tr style=\"text-align: right;\">\n",
              "      <th></th>\n",
              "      <th>building_id</th>\n",
              "      <th>meter</th>\n",
              "      <th>timestamp</th>\n",
              "      <th>meter_reading</th>\n",
              "      <th>site_id</th>\n",
              "      <th>primary_use</th>\n",
              "      <th>square_feet</th>\n",
              "      <th>air_temperature</th>\n",
              "      <th>cloud_coverage</th>\n",
              "      <th>dew_temperature</th>\n",
              "      <th>precip_depth_1_hr</th>\n",
              "      <th>sea_level_pressure</th>\n",
              "      <th>wind_speed</th>\n",
              "      <th>month</th>\n",
              "      <th>day</th>\n",
              "      <th>year</th>\n",
              "      <th>hour</th>\n",
              "      <th>wind_direction_sin</th>\n",
              "      <th>wind_direction_cos</th>\n",
              "    </tr>\n",
              "  </thead>\n",
              "  <tbody>\n",
              "    <tr>\n",
              "      <th>0</th>\n",
              "      <td>0</td>\n",
              "      <td>0</td>\n",
              "      <td>2016-01-01</td>\n",
              "      <td>0.0</td>\n",
              "      <td>0</td>\n",
              "      <td>0</td>\n",
              "      <td>-0.827015</td>\n",
              "      <td>0.859973</td>\n",
              "      <td>1.427542</td>\n",
              "      <td>1.225043</td>\n",
              "      <td>-0.17395</td>\n",
              "      <td>8.073808</td>\n",
              "      <td>-1.63796</td>\n",
              "      <td>1</td>\n",
              "      <td>4</td>\n",
              "      <td>2016</td>\n",
              "      <td>0</td>\n",
              "      <td>0.0</td>\n",
              "      <td>1.0</td>\n",
              "    </tr>\n",
              "    <tr>\n",
              "      <th>1</th>\n",
              "      <td>1</td>\n",
              "      <td>0</td>\n",
              "      <td>2016-01-01</td>\n",
              "      <td>0.0</td>\n",
              "      <td>0</td>\n",
              "      <td>0</td>\n",
              "      <td>-0.867240</td>\n",
              "      <td>0.859973</td>\n",
              "      <td>1.427542</td>\n",
              "      <td>1.225043</td>\n",
              "      <td>-0.17395</td>\n",
              "      <td>8.073808</td>\n",
              "      <td>-1.63796</td>\n",
              "      <td>1</td>\n",
              "      <td>4</td>\n",
              "      <td>2016</td>\n",
              "      <td>0</td>\n",
              "      <td>0.0</td>\n",
              "      <td>1.0</td>\n",
              "    </tr>\n",
              "    <tr>\n",
              "      <th>2</th>\n",
              "      <td>2</td>\n",
              "      <td>0</td>\n",
              "      <td>2016-01-01</td>\n",
              "      <td>0.0</td>\n",
              "      <td>0</td>\n",
              "      <td>0</td>\n",
              "      <td>-0.844566</td>\n",
              "      <td>0.859973</td>\n",
              "      <td>1.427542</td>\n",
              "      <td>1.225043</td>\n",
              "      <td>-0.17395</td>\n",
              "      <td>8.073808</td>\n",
              "      <td>-1.63796</td>\n",
              "      <td>1</td>\n",
              "      <td>4</td>\n",
              "      <td>2016</td>\n",
              "      <td>0</td>\n",
              "      <td>0.0</td>\n",
              "      <td>1.0</td>\n",
              "    </tr>\n",
              "    <tr>\n",
              "      <th>3</th>\n",
              "      <td>3</td>\n",
              "      <td>0</td>\n",
              "      <td>2016-01-01</td>\n",
              "      <td>0.0</td>\n",
              "      <td>0</td>\n",
              "      <td>0</td>\n",
              "      <td>-0.688269</td>\n",
              "      <td>0.859973</td>\n",
              "      <td>1.427542</td>\n",
              "      <td>1.225043</td>\n",
              "      <td>-0.17395</td>\n",
              "      <td>8.073808</td>\n",
              "      <td>-1.63796</td>\n",
              "      <td>1</td>\n",
              "      <td>4</td>\n",
              "      <td>2016</td>\n",
              "      <td>0</td>\n",
              "      <td>0.0</td>\n",
              "      <td>1.0</td>\n",
              "    </tr>\n",
              "    <tr>\n",
              "      <th>4</th>\n",
              "      <td>4</td>\n",
              "      <td>0</td>\n",
              "      <td>2016-01-01</td>\n",
              "      <td>0.0</td>\n",
              "      <td>0</td>\n",
              "      <td>0</td>\n",
              "      <td>0.104970</td>\n",
              "      <td>0.859973</td>\n",
              "      <td>1.427542</td>\n",
              "      <td>1.225043</td>\n",
              "      <td>-0.17395</td>\n",
              "      <td>8.073808</td>\n",
              "      <td>-1.63796</td>\n",
              "      <td>1</td>\n",
              "      <td>4</td>\n",
              "      <td>2016</td>\n",
              "      <td>0</td>\n",
              "      <td>0.0</td>\n",
              "      <td>1.0</td>\n",
              "    </tr>\n",
              "  </tbody>\n",
              "</table>\n",
              "</div>"
            ],
            "text/plain": [
              "   building_id  meter  timestamp  ...  hour  wind_direction_sin  wind_direction_cos\n",
              "0            0      0 2016-01-01  ...     0                 0.0                 1.0\n",
              "1            1      0 2016-01-01  ...     0                 0.0                 1.0\n",
              "2            2      0 2016-01-01  ...     0                 0.0                 1.0\n",
              "3            3      0 2016-01-01  ...     0                 0.0                 1.0\n",
              "4            4      0 2016-01-01  ...     0                 0.0                 1.0\n",
              "\n",
              "[5 rows x 19 columns]"
            ]
          },
          "metadata": {
            "tags": []
          },
          "execution_count": 30
        }
      ]
    },
    {
      "cell_type": "code",
      "metadata": {
        "colab_type": "code",
        "id": "I9oY9JVca_2t",
        "outputId": "045e29a3-f9f9-4c19-a24b-dfd2f3209ef5",
        "colab": {
          "base_uri": "https://localhost:8080/",
          "height": 218
        }
      },
      "source": [
        "data.meter_reading"
      ],
      "execution_count": 0,
      "outputs": [
        {
          "output_type": "execute_result",
          "data": {
            "text/plain": [
              "0             0.000000\n",
              "1             0.000000\n",
              "2             0.000000\n",
              "3             0.000000\n",
              "4             0.000000\n",
              "               ...    \n",
              "20216095      8.750000\n",
              "20216096      4.825000\n",
              "20216097      0.000000\n",
              "20216098    159.574997\n",
              "20216099      2.850000\n",
              "Name: meter_reading, Length: 20216100, dtype: float32"
            ]
          },
          "metadata": {
            "tags": []
          },
          "execution_count": 31
        }
      ]
    },
    {
      "cell_type": "code",
      "metadata": {
        "colab_type": "code",
        "id": "Xpl29A2ba_21",
        "colab": {}
      },
      "source": [
        "data['meter_reading'] = np.log1p(data[\"meter_reading\"])"
      ],
      "execution_count": 0,
      "outputs": []
    },
    {
      "cell_type": "code",
      "metadata": {
        "colab_type": "code",
        "id": "Ur-LX-S0a_24",
        "outputId": "fe45fb1f-67bc-45e1-d1a2-32cd440cc54e",
        "colab": {
          "base_uri": "https://localhost:8080/",
          "height": 218
        }
      },
      "source": [
        "data.meter_reading"
      ],
      "execution_count": 0,
      "outputs": [
        {
          "output_type": "execute_result",
          "data": {
            "text/plain": [
              "0           0.000000\n",
              "1           0.000000\n",
              "2           0.000000\n",
              "3           0.000000\n",
              "4           0.000000\n",
              "              ...   \n",
              "20216095    2.277267\n",
              "20216096    1.762159\n",
              "20216097    0.000000\n",
              "20216098    5.078761\n",
              "20216099    1.348073\n",
              "Name: meter_reading, Length: 20216100, dtype: float32"
            ]
          },
          "metadata": {
            "tags": []
          },
          "execution_count": 33
        }
      ]
    },
    {
      "cell_type": "code",
      "metadata": {
        "colab_type": "code",
        "id": "wxKGLUX1a_3O",
        "outputId": "f42b2a4e-007e-4b69-edf5-b807ef298f50",
        "colab": {
          "base_uri": "https://localhost:8080/",
          "height": 34
        }
      },
      "source": [
        "data.shape"
      ],
      "execution_count": 0,
      "outputs": [
        {
          "output_type": "execute_result",
          "data": {
            "text/plain": [
              "(20216100, 19)"
            ]
          },
          "metadata": {
            "tags": []
          },
          "execution_count": 37
        }
      ]
    },
    {
      "cell_type": "code",
      "metadata": {
        "colab_type": "code",
        "id": "fwPArAQ9WvHW",
        "outputId": "7b9bd800-0e80-4b83-e768-61e060dc7579",
        "colab": {
          "base_uri": "https://localhost:8080/",
          "height": 299
        }
      },
      "source": [
        "data.head()"
      ],
      "execution_count": 0,
      "outputs": [
        {
          "output_type": "execute_result",
          "data": {
            "text/html": [
              "<div>\n",
              "<style scoped>\n",
              "    .dataframe tbody tr th:only-of-type {\n",
              "        vertical-align: middle;\n",
              "    }\n",
              "\n",
              "    .dataframe tbody tr th {\n",
              "        vertical-align: top;\n",
              "    }\n",
              "\n",
              "    .dataframe thead th {\n",
              "        text-align: right;\n",
              "    }\n",
              "</style>\n",
              "<table border=\"1\" class=\"dataframe\">\n",
              "  <thead>\n",
              "    <tr style=\"text-align: right;\">\n",
              "      <th></th>\n",
              "      <th>building_id</th>\n",
              "      <th>meter</th>\n",
              "      <th>timestamp</th>\n",
              "      <th>meter_reading</th>\n",
              "      <th>site_id</th>\n",
              "      <th>primary_use</th>\n",
              "      <th>square_feet</th>\n",
              "      <th>air_temperature</th>\n",
              "      <th>cloud_coverage</th>\n",
              "      <th>dew_temperature</th>\n",
              "      <th>precip_depth_1_hr</th>\n",
              "      <th>sea_level_pressure</th>\n",
              "      <th>wind_speed</th>\n",
              "      <th>month</th>\n",
              "      <th>day</th>\n",
              "      <th>year</th>\n",
              "      <th>hour</th>\n",
              "      <th>wind_direction_sin</th>\n",
              "      <th>wind_direction_cos</th>\n",
              "    </tr>\n",
              "  </thead>\n",
              "  <tbody>\n",
              "    <tr>\n",
              "      <th>0</th>\n",
              "      <td>0</td>\n",
              "      <td>0</td>\n",
              "      <td>2016-01-01</td>\n",
              "      <td>0.0</td>\n",
              "      <td>0</td>\n",
              "      <td>0</td>\n",
              "      <td>-0.827015</td>\n",
              "      <td>0.859973</td>\n",
              "      <td>1.427542</td>\n",
              "      <td>1.225043</td>\n",
              "      <td>-0.17395</td>\n",
              "      <td>8.073808</td>\n",
              "      <td>-1.63796</td>\n",
              "      <td>1</td>\n",
              "      <td>4</td>\n",
              "      <td>2016</td>\n",
              "      <td>0</td>\n",
              "      <td>0.0</td>\n",
              "      <td>1.0</td>\n",
              "    </tr>\n",
              "    <tr>\n",
              "      <th>1</th>\n",
              "      <td>1</td>\n",
              "      <td>0</td>\n",
              "      <td>2016-01-01</td>\n",
              "      <td>0.0</td>\n",
              "      <td>0</td>\n",
              "      <td>0</td>\n",
              "      <td>-0.867240</td>\n",
              "      <td>0.859973</td>\n",
              "      <td>1.427542</td>\n",
              "      <td>1.225043</td>\n",
              "      <td>-0.17395</td>\n",
              "      <td>8.073808</td>\n",
              "      <td>-1.63796</td>\n",
              "      <td>1</td>\n",
              "      <td>4</td>\n",
              "      <td>2016</td>\n",
              "      <td>0</td>\n",
              "      <td>0.0</td>\n",
              "      <td>1.0</td>\n",
              "    </tr>\n",
              "    <tr>\n",
              "      <th>2</th>\n",
              "      <td>2</td>\n",
              "      <td>0</td>\n",
              "      <td>2016-01-01</td>\n",
              "      <td>0.0</td>\n",
              "      <td>0</td>\n",
              "      <td>0</td>\n",
              "      <td>-0.844566</td>\n",
              "      <td>0.859973</td>\n",
              "      <td>1.427542</td>\n",
              "      <td>1.225043</td>\n",
              "      <td>-0.17395</td>\n",
              "      <td>8.073808</td>\n",
              "      <td>-1.63796</td>\n",
              "      <td>1</td>\n",
              "      <td>4</td>\n",
              "      <td>2016</td>\n",
              "      <td>0</td>\n",
              "      <td>0.0</td>\n",
              "      <td>1.0</td>\n",
              "    </tr>\n",
              "    <tr>\n",
              "      <th>3</th>\n",
              "      <td>3</td>\n",
              "      <td>0</td>\n",
              "      <td>2016-01-01</td>\n",
              "      <td>0.0</td>\n",
              "      <td>0</td>\n",
              "      <td>0</td>\n",
              "      <td>-0.688269</td>\n",
              "      <td>0.859973</td>\n",
              "      <td>1.427542</td>\n",
              "      <td>1.225043</td>\n",
              "      <td>-0.17395</td>\n",
              "      <td>8.073808</td>\n",
              "      <td>-1.63796</td>\n",
              "      <td>1</td>\n",
              "      <td>4</td>\n",
              "      <td>2016</td>\n",
              "      <td>0</td>\n",
              "      <td>0.0</td>\n",
              "      <td>1.0</td>\n",
              "    </tr>\n",
              "    <tr>\n",
              "      <th>4</th>\n",
              "      <td>4</td>\n",
              "      <td>0</td>\n",
              "      <td>2016-01-01</td>\n",
              "      <td>0.0</td>\n",
              "      <td>0</td>\n",
              "      <td>0</td>\n",
              "      <td>0.104970</td>\n",
              "      <td>0.859973</td>\n",
              "      <td>1.427542</td>\n",
              "      <td>1.225043</td>\n",
              "      <td>-0.17395</td>\n",
              "      <td>8.073808</td>\n",
              "      <td>-1.63796</td>\n",
              "      <td>1</td>\n",
              "      <td>4</td>\n",
              "      <td>2016</td>\n",
              "      <td>0</td>\n",
              "      <td>0.0</td>\n",
              "      <td>1.0</td>\n",
              "    </tr>\n",
              "  </tbody>\n",
              "</table>\n",
              "</div>"
            ],
            "text/plain": [
              "   building_id  meter  timestamp  ...  hour  wind_direction_sin  wind_direction_cos\n",
              "0            0      0 2016-01-01  ...     0                 0.0                 1.0\n",
              "1            1      0 2016-01-01  ...     0                 0.0                 1.0\n",
              "2            2      0 2016-01-01  ...     0                 0.0                 1.0\n",
              "3            3      0 2016-01-01  ...     0                 0.0                 1.0\n",
              "4            4      0 2016-01-01  ...     0                 0.0                 1.0\n",
              "\n",
              "[5 rows x 19 columns]"
            ]
          },
          "metadata": {
            "tags": []
          },
          "execution_count": 34
        }
      ]
    },
    {
      "cell_type": "code",
      "metadata": {
        "id": "TiguBSIdQD9x",
        "colab_type": "code",
        "colab": {}
      },
      "source": [
        ""
      ],
      "execution_count": 0,
      "outputs": []
    },
    {
      "cell_type": "markdown",
      "metadata": {
        "id": "P7AU9nKqQD93",
        "colab_type": "text"
      },
      "source": [
        "# Split the data"
      ]
    },
    {
      "cell_type": "code",
      "metadata": {
        "colab_type": "code",
        "id": "SdRPzlxLa_3I",
        "colab": {}
      },
      "source": [
        "X = data.drop(['meter_reading'], axis= 1)"
      ],
      "execution_count": 0,
      "outputs": []
    },
    {
      "cell_type": "code",
      "metadata": {
        "colab_type": "code",
        "id": "HB6FLmG-a_3W",
        "colab": {}
      },
      "source": [
        "# X.drop(['timestamp','building_id','site_id','year',\t'hour','wind_direction','sea_level_pressure'], axis= 1, inplace = True)\n",
        "# X.drop(['building_id','site_id'], axis= 1, inplace = True)\n",
        "\n",
        "X.drop(['timestamp','year','hour'], axis= 1, inplace = True)"
      ],
      "execution_count": 0,
      "outputs": []
    },
    {
      "cell_type": "code",
      "metadata": {
        "colab_type": "code",
        "id": "MpIItn0ma_3Y",
        "outputId": "1d5bbc7e-3a27-4e00-cb89-4ef18e29187e",
        "colab": {
          "base_uri": "https://localhost:8080/",
          "height": 422
        }
      },
      "source": [
        "X"
      ],
      "execution_count": 0,
      "outputs": [
        {
          "output_type": "execute_result",
          "data": {
            "text/html": [
              "<div>\n",
              "<style scoped>\n",
              "    .dataframe tbody tr th:only-of-type {\n",
              "        vertical-align: middle;\n",
              "    }\n",
              "\n",
              "    .dataframe tbody tr th {\n",
              "        vertical-align: top;\n",
              "    }\n",
              "\n",
              "    .dataframe thead th {\n",
              "        text-align: right;\n",
              "    }\n",
              "</style>\n",
              "<table border=\"1\" class=\"dataframe\">\n",
              "  <thead>\n",
              "    <tr style=\"text-align: right;\">\n",
              "      <th></th>\n",
              "      <th>building_id</th>\n",
              "      <th>meter</th>\n",
              "      <th>site_id</th>\n",
              "      <th>primary_use</th>\n",
              "      <th>square_feet</th>\n",
              "      <th>air_temperature</th>\n",
              "      <th>cloud_coverage</th>\n",
              "      <th>dew_temperature</th>\n",
              "      <th>precip_depth_1_hr</th>\n",
              "      <th>sea_level_pressure</th>\n",
              "      <th>wind_speed</th>\n",
              "      <th>month</th>\n",
              "      <th>day</th>\n",
              "      <th>wind_direction_sin</th>\n",
              "      <th>wind_direction_cos</th>\n",
              "    </tr>\n",
              "  </thead>\n",
              "  <tbody>\n",
              "    <tr>\n",
              "      <th>0</th>\n",
              "      <td>0</td>\n",
              "      <td>0</td>\n",
              "      <td>0</td>\n",
              "      <td>0</td>\n",
              "      <td>-0.827015</td>\n",
              "      <td>0.859973</td>\n",
              "      <td>1.427542</td>\n",
              "      <td>1.225043</td>\n",
              "      <td>-0.17395</td>\n",
              "      <td>8.073808</td>\n",
              "      <td>-1.637960</td>\n",
              "      <td>1</td>\n",
              "      <td>4</td>\n",
              "      <td>0.000000</td>\n",
              "      <td>1.0</td>\n",
              "    </tr>\n",
              "    <tr>\n",
              "      <th>1</th>\n",
              "      <td>1</td>\n",
              "      <td>0</td>\n",
              "      <td>0</td>\n",
              "      <td>0</td>\n",
              "      <td>-0.867240</td>\n",
              "      <td>0.859973</td>\n",
              "      <td>1.427542</td>\n",
              "      <td>1.225043</td>\n",
              "      <td>-0.17395</td>\n",
              "      <td>8.073808</td>\n",
              "      <td>-1.637960</td>\n",
              "      <td>1</td>\n",
              "      <td>4</td>\n",
              "      <td>0.000000</td>\n",
              "      <td>1.0</td>\n",
              "    </tr>\n",
              "    <tr>\n",
              "      <th>2</th>\n",
              "      <td>2</td>\n",
              "      <td>0</td>\n",
              "      <td>0</td>\n",
              "      <td>0</td>\n",
              "      <td>-0.844566</td>\n",
              "      <td>0.859973</td>\n",
              "      <td>1.427542</td>\n",
              "      <td>1.225043</td>\n",
              "      <td>-0.17395</td>\n",
              "      <td>8.073808</td>\n",
              "      <td>-1.637960</td>\n",
              "      <td>1</td>\n",
              "      <td>4</td>\n",
              "      <td>0.000000</td>\n",
              "      <td>1.0</td>\n",
              "    </tr>\n",
              "    <tr>\n",
              "      <th>3</th>\n",
              "      <td>3</td>\n",
              "      <td>0</td>\n",
              "      <td>0</td>\n",
              "      <td>0</td>\n",
              "      <td>-0.688269</td>\n",
              "      <td>0.859973</td>\n",
              "      <td>1.427542</td>\n",
              "      <td>1.225043</td>\n",
              "      <td>-0.17395</td>\n",
              "      <td>8.073808</td>\n",
              "      <td>-1.637960</td>\n",
              "      <td>1</td>\n",
              "      <td>4</td>\n",
              "      <td>0.000000</td>\n",
              "      <td>1.0</td>\n",
              "    </tr>\n",
              "    <tr>\n",
              "      <th>4</th>\n",
              "      <td>4</td>\n",
              "      <td>0</td>\n",
              "      <td>0</td>\n",
              "      <td>0</td>\n",
              "      <td>0.104970</td>\n",
              "      <td>0.859973</td>\n",
              "      <td>1.427542</td>\n",
              "      <td>1.225043</td>\n",
              "      <td>-0.17395</td>\n",
              "      <td>8.073808</td>\n",
              "      <td>-1.637960</td>\n",
              "      <td>1</td>\n",
              "      <td>4</td>\n",
              "      <td>0.000000</td>\n",
              "      <td>1.0</td>\n",
              "    </tr>\n",
              "    <tr>\n",
              "      <th>...</th>\n",
              "      <td>...</td>\n",
              "      <td>...</td>\n",
              "      <td>...</td>\n",
              "      <td>...</td>\n",
              "      <td>...</td>\n",
              "      <td>...</td>\n",
              "      <td>...</td>\n",
              "      <td>...</td>\n",
              "      <td>...</td>\n",
              "      <td>...</td>\n",
              "      <td>...</td>\n",
              "      <td>...</td>\n",
              "      <td>...</td>\n",
              "      <td>...</td>\n",
              "      <td>...</td>\n",
              "    </tr>\n",
              "    <tr>\n",
              "      <th>20216095</th>\n",
              "      <td>1444</td>\n",
              "      <td>0</td>\n",
              "      <td>15</td>\n",
              "      <td>1</td>\n",
              "      <td>-0.722979</td>\n",
              "      <td>-1.299033</td>\n",
              "      <td>-0.111872</td>\n",
              "      <td>-1.325848</td>\n",
              "      <td>-1.00000</td>\n",
              "      <td>7.179112</td>\n",
              "      <td>2.470315</td>\n",
              "      <td>12</td>\n",
              "      <td>5</td>\n",
              "      <td>-0.000074</td>\n",
              "      <td>-1.0</td>\n",
              "    </tr>\n",
              "    <tr>\n",
              "      <th>20216096</th>\n",
              "      <td>1445</td>\n",
              "      <td>0</td>\n",
              "      <td>15</td>\n",
              "      <td>0</td>\n",
              "      <td>-0.853769</td>\n",
              "      <td>-1.299033</td>\n",
              "      <td>-0.111872</td>\n",
              "      <td>-1.325848</td>\n",
              "      <td>-1.00000</td>\n",
              "      <td>7.179112</td>\n",
              "      <td>2.470315</td>\n",
              "      <td>12</td>\n",
              "      <td>5</td>\n",
              "      <td>-0.000074</td>\n",
              "      <td>-1.0</td>\n",
              "    </tr>\n",
              "    <tr>\n",
              "      <th>20216097</th>\n",
              "      <td>1446</td>\n",
              "      <td>0</td>\n",
              "      <td>15</td>\n",
              "      <td>1</td>\n",
              "      <td>-0.794294</td>\n",
              "      <td>-1.299033</td>\n",
              "      <td>-0.111872</td>\n",
              "      <td>-1.325848</td>\n",
              "      <td>-1.00000</td>\n",
              "      <td>7.179112</td>\n",
              "      <td>2.470315</td>\n",
              "      <td>12</td>\n",
              "      <td>5</td>\n",
              "      <td>-0.000074</td>\n",
              "      <td>-1.0</td>\n",
              "    </tr>\n",
              "    <tr>\n",
              "      <th>20216098</th>\n",
              "      <td>1447</td>\n",
              "      <td>0</td>\n",
              "      <td>15</td>\n",
              "      <td>4</td>\n",
              "      <td>-0.636281</td>\n",
              "      <td>-1.299033</td>\n",
              "      <td>-0.111872</td>\n",
              "      <td>-1.325848</td>\n",
              "      <td>-1.00000</td>\n",
              "      <td>7.179112</td>\n",
              "      <td>2.470315</td>\n",
              "      <td>12</td>\n",
              "      <td>5</td>\n",
              "      <td>-0.000074</td>\n",
              "      <td>-1.0</td>\n",
              "    </tr>\n",
              "    <tr>\n",
              "      <th>20216099</th>\n",
              "      <td>1448</td>\n",
              "      <td>0</td>\n",
              "      <td>15</td>\n",
              "      <td>6</td>\n",
              "      <td>-0.102777</td>\n",
              "      <td>-1.299033</td>\n",
              "      <td>-0.111872</td>\n",
              "      <td>-1.325848</td>\n",
              "      <td>-1.00000</td>\n",
              "      <td>7.179112</td>\n",
              "      <td>2.470315</td>\n",
              "      <td>12</td>\n",
              "      <td>5</td>\n",
              "      <td>-0.000074</td>\n",
              "      <td>-1.0</td>\n",
              "    </tr>\n",
              "  </tbody>\n",
              "</table>\n",
              "<p>20216100 rows × 15 columns</p>\n",
              "</div>"
            ],
            "text/plain": [
              "          building_id  meter  ...  wind_direction_sin  wind_direction_cos\n",
              "0                   0      0  ...            0.000000                 1.0\n",
              "1                   1      0  ...            0.000000                 1.0\n",
              "2                   2      0  ...            0.000000                 1.0\n",
              "3                   3      0  ...            0.000000                 1.0\n",
              "4                   4      0  ...            0.000000                 1.0\n",
              "...               ...    ...  ...                 ...                 ...\n",
              "20216095         1444      0  ...           -0.000074                -1.0\n",
              "20216096         1445      0  ...           -0.000074                -1.0\n",
              "20216097         1446      0  ...           -0.000074                -1.0\n",
              "20216098         1447      0  ...           -0.000074                -1.0\n",
              "20216099         1448      0  ...           -0.000074                -1.0\n",
              "\n",
              "[20216100 rows x 15 columns]"
            ]
          },
          "metadata": {
            "tags": []
          },
          "execution_count": 39
        }
      ]
    },
    {
      "cell_type": "code",
      "metadata": {
        "colab_type": "code",
        "id": "WRGFQcjga_3D",
        "colab": {}
      },
      "source": [
        "from sklearn.model_selection import train_test_split\n",
        "X_train, X_test, y_train, y_test = train_test_split(X, data.meter_reading, test_size=0.3)"
      ],
      "execution_count": 0,
      "outputs": []
    },
    {
      "cell_type": "code",
      "metadata": {
        "colab_type": "code",
        "id": "YDwsMKjHa_3a",
        "colab": {}
      },
      "source": [
        "def rmse(y_true, y_pred):\n",
        "    \"\"\" root_mean_squared_error \"\"\"\n",
        "    return K.sqrt(K.mean(K.square(y_pred - y_true)))"
      ],
      "execution_count": 0,
      "outputs": []
    },
    {
      "cell_type": "code",
      "metadata": {
        "colab_type": "code",
        "id": "fluMH9_Fv5Hs",
        "colab": {}
      },
      "source": [
        "### reshape data for the LSTM architecture\n",
        "\n",
        "X_train = X_train.values\n",
        "y_train = y_train.values\n",
        "X_test = X_test.values\n",
        "y_test = y_test.values\n",
        "\n",
        "X_train = X_train.reshape((X_train.shape[0], 1, X_train.shape[1]))\n",
        "X_test = X_test.reshape((X_test.shape[0], 1, X_test.shape[1]))"
      ],
      "execution_count": 0,
      "outputs": []
    },
    {
      "cell_type": "code",
      "metadata": {
        "colab_type": "code",
        "id": "uoCOc8UQof1f",
        "outputId": "18c4a0ea-f757-446e-c59b-ad6d8a6a8dcd",
        "colab": {
          "base_uri": "https://localhost:8080/",
          "height": 252
        }
      },
      "source": [
        "from keras.utils import Sequence\n",
        "from keras.models import Sequential\n",
        "from keras.layers import Dense, Dropout, Flatten, LSTM, Embedding\n",
        "from keras.optimizers import RMSprop,Adam\n",
        "import keras.backend as K\n",
        "\n",
        "\n",
        "### Architecture LSTM\n",
        "\n",
        "model = Sequential()\n",
        "\n",
        "model.add(LSTM(100, activation = 'relu', input_shape=(X_train.shape[1], X_train.shape[2])))\n",
        "model.add(Dropout(0.2))\n",
        "model.add(Dense(1, activation = 'relu'))\n",
        "\n",
        "model.summary()\n",
        "\n",
        "# model.compile(loss='mean_squared_error', optimizer='adam')\n",
        "\n",
        "# fit network\n",
        "# history = model.fit(train_X, train_y, epochs=20, batch_size=70, validation_data=(test_X, test_y), verbose=2, shuffle=False)"
      ],
      "execution_count": 0,
      "outputs": [
        {
          "output_type": "stream",
          "text": [
            "Model: \"sequential_4\"\n",
            "_________________________________________________________________\n",
            "Layer (type)                 Output Shape              Param #   \n",
            "=================================================================\n",
            "lstm_3 (LSTM)                (None, 100)               46400     \n",
            "_________________________________________________________________\n",
            "dropout_3 (Dropout)          (None, 100)               0         \n",
            "_________________________________________________________________\n",
            "dense_3 (Dense)              (None, 1)                 101       \n",
            "=================================================================\n",
            "Total params: 46,501\n",
            "Trainable params: 46,501\n",
            "Non-trainable params: 0\n",
            "_________________________________________________________________\n"
          ],
          "name": "stdout"
        }
      ]
    },
    {
      "cell_type": "code",
      "metadata": {
        "colab_type": "code",
        "id": "66KlFuAK5Txb",
        "colab": {}
      },
      "source": [
        "model.compile(loss='mse',optimizer = 'Adam' ,metrics=[rmse])"
      ],
      "execution_count": 0,
      "outputs": []
    },
    {
      "cell_type": "code",
      "metadata": {
        "colab_type": "code",
        "id": "YBmAjExt0LXx",
        "outputId": "709601b7-4597-4e5b-c382-f3a07a6c3e7b",
        "colab": {
          "base_uri": "https://localhost:8080/",
          "height": 706
        }
      },
      "source": [
        "history = model.fit(X_train, y_train, epochs=20, batch_size=500, validation_data=(X_test, y_test))"
      ],
      "execution_count": 0,
      "outputs": [
        {
          "output_type": "stream",
          "text": [
            "Train on 14151270 samples, validate on 6064830 samples\n",
            "Epoch 1/20\n",
            "14151270/14151270 [==============================] - 171s 12us/step - loss: 3.4307 - rmse: 1.8421 - val_loss: 2.9289 - val_rmse: 1.7097\n",
            "Epoch 2/20\n",
            "14151270/14151270 [==============================] - 163s 12us/step - loss: 2.9629 - rmse: 1.7195 - val_loss: 2.6523 - val_rmse: 1.6269\n",
            "Epoch 3/20\n",
            "14151270/14151270 [==============================] - 164s 12us/step - loss: 2.7695 - rmse: 1.6624 - val_loss: 2.5174 - val_rmse: 1.5849\n",
            "Epoch 4/20\n",
            "14151270/14151270 [==============================] - 164s 12us/step - loss: 2.6582 - rmse: 1.6286 - val_loss: 2.4404 - val_rmse: 1.5603\n",
            "Epoch 5/20\n",
            "14151270/14151270 [==============================] - 164s 12us/step - loss: 2.5796 - rmse: 1.6042 - val_loss: 2.3927 - val_rmse: 1.5450\n",
            "Epoch 6/20\n",
            "14151270/14151270 [==============================] - 164s 12us/step - loss: 2.5370 - rmse: 1.5909 - val_loss: 2.3735 - val_rmse: 1.5387\n",
            "Epoch 7/20\n",
            "14151270/14151270 [==============================] - 163s 12us/step - loss: 2.5098 - rmse: 1.5823 - val_loss: 2.3608 - val_rmse: 1.5346\n",
            "Epoch 8/20\n",
            "14151270/14151270 [==============================] - 163s 12us/step - loss: 2.4868 - rmse: 1.5751 - val_loss: 2.3463 - val_rmse: 1.5299\n",
            "Epoch 9/20\n",
            "14151270/14151270 [==============================] - 163s 12us/step - loss: 2.4662 - rmse: 1.5685 - val_loss: 2.3177 - val_rmse: 1.5204\n",
            "Epoch 10/20\n",
            "14151270/14151270 [==============================] - 166s 12us/step - loss: 2.4495 - rmse: 1.5631 - val_loss: 2.2968 - val_rmse: 1.5136\n",
            "Epoch 11/20\n",
            "14151270/14151270 [==============================] - 166s 12us/step - loss: 2.4384 - rmse: 1.5596 - val_loss: 2.3064 - val_rmse: 1.5167\n",
            "Epoch 12/20\n",
            "14151270/14151270 [==============================] - 167s 12us/step - loss: 2.4282 - rmse: 1.5564 - val_loss: 2.2805 - val_rmse: 1.5082\n",
            "Epoch 13/20\n",
            "14151270/14151270 [==============================] - 164s 12us/step - loss: 2.4195 - rmse: 1.5535 - val_loss: 2.2933 - val_rmse: 1.5125\n",
            "Epoch 14/20\n",
            "14151270/14151270 [==============================] - 162s 11us/step - loss: 2.4104 - rmse: 1.5506 - val_loss: 2.2789 - val_rmse: 1.5075\n",
            "Epoch 15/20\n",
            "14151270/14151270 [==============================] - 161s 11us/step - loss: 2.4028 - rmse: 1.5481 - val_loss: 2.2538 - val_rmse: 1.4992\n",
            "Epoch 16/20\n",
            "14151270/14151270 [==============================] - 161s 11us/step - loss: 2.3964 - rmse: 1.5461 - val_loss: 2.2559 - val_rmse: 1.5000\n",
            "Epoch 17/20\n",
            "14151270/14151270 [==============================] - 160s 11us/step - loss: 2.3914 - rmse: 1.5444 - val_loss: 2.2468 - val_rmse: 1.4969\n",
            "Epoch 18/20\n",
            "14151270/14151270 [==============================] - 159s 11us/step - loss: 2.3857 - rmse: 1.5426 - val_loss: 2.2472 - val_rmse: 1.4972\n",
            "Epoch 19/20\n",
            "14151270/14151270 [==============================] - 161s 11us/step - loss: 2.3812 - rmse: 1.5411 - val_loss: 2.2451 - val_rmse: 1.4964\n",
            "Epoch 20/20\n",
            "14151270/14151270 [==============================] - 161s 11us/step - loss: 2.3765 - rmse: 1.5396 - val_loss: 2.2312 - val_rmse: 1.4918\n"
          ],
          "name": "stdout"
        }
      ]
    },
    {
      "cell_type": "code",
      "metadata": {
        "colab_type": "code",
        "id": "JKmDVmShG96x",
        "outputId": "131a5cdf-f50b-4944-db0a-0e70560a7a43",
        "colab": {
          "base_uri": "https://localhost:8080/",
          "height": 706
        }
      },
      "source": [
        "# display curves of loss and accuracy during training\n",
        "acc = history.history['rmse']\n",
        "val_acc = history.history['val_rmse']\n",
        "loss = history.history['loss']\n",
        "val_loss = history.history['val_loss']\n",
        "\n",
        "epochs = range(1, len(acc)+1)\n",
        "plt.plot(epochs, acc, label='training rmse')\n",
        "plt.plot(epochs, val_acc, label='validation rmse')\n",
        "plt.legend()\n",
        "\n",
        "plt.figure()\n",
        "plt.plot(epochs, loss, label='training loss')\n",
        "plt.plot(epochs, val_loss, label='validation loss')\n",
        "plt.legend()\n",
        "plt.show"
      ],
      "execution_count": 0,
      "outputs": [
        {
          "output_type": "execute_result",
          "data": {
            "text/plain": [
              "<function matplotlib.pyplot.show>"
            ]
          },
          "metadata": {
            "tags": []
          },
          "execution_count": 58
        },
        {
          "output_type": "display_data",
          "data": {
            "image/png": "[encoded data removed]",
            "text/plain": [
              "<Figure size 576x396 with 1 Axes>"
            ]
          },
          "metadata": {
            "tags": []
          }
        },
        {
          "output_type": "display_data",
          "data": {
            "image/png": "[encoded data removed]",
            "text/plain": [
              "<Figure size 576x396 with 1 Axes>"
            ]
          },
          "metadata": {
            "tags": []
          }
        }
      ]
    },
    {
      "cell_type": "code",
      "metadata": {
        "id": "aETkgWHbQD-K",
        "colab_type": "code",
        "colab": {}
      },
      "source": [
        ""
      ],
      "execution_count": 0,
      "outputs": []
    },
    {
      "cell_type": "markdown",
      "metadata": {
        "id": "5rE622-tQD-L",
        "colab_type": "text"
      },
      "source": [
        "# Test "
      ]
    },
    {
      "cell_type": "code",
      "metadata": {
        "colab_type": "code",
        "id": "HyBM-OJuG92X",
        "colab": {}
      },
      "source": [
        "test = pd.read_csv(path_test)"
      ],
      "execution_count": 0,
      "outputs": []
    },
    {
      "cell_type": "code",
      "metadata": {
        "colab_type": "code",
        "id": "lMj6pE8zKagX",
        "outputId": "62034957-9e85-4b51-d79a-25cee82ed353",
        "colab": {
          "base_uri": "https://localhost:8080/",
          "height": 195
        }
      },
      "source": [
        "test.head()"
      ],
      "execution_count": 0,
      "outputs": [
        {
          "output_type": "execute_result",
          "data": {
            "text/html": [
              "<div>\n",
              "<style scoped>\n",
              "    .dataframe tbody tr th:only-of-type {\n",
              "        vertical-align: middle;\n",
              "    }\n",
              "\n",
              "    .dataframe tbody tr th {\n",
              "        vertical-align: top;\n",
              "    }\n",
              "\n",
              "    .dataframe thead th {\n",
              "        text-align: right;\n",
              "    }\n",
              "</style>\n",
              "<table border=\"1\" class=\"dataframe\">\n",
              "  <thead>\n",
              "    <tr style=\"text-align: right;\">\n",
              "      <th></th>\n",
              "      <th>row_id</th>\n",
              "      <th>building_id</th>\n",
              "      <th>meter</th>\n",
              "      <th>timestamp</th>\n",
              "    </tr>\n",
              "  </thead>\n",
              "  <tbody>\n",
              "    <tr>\n",
              "      <th>0</th>\n",
              "      <td>0</td>\n",
              "      <td>0</td>\n",
              "      <td>0</td>\n",
              "      <td>2017-01-01 00:00:00</td>\n",
              "    </tr>\n",
              "    <tr>\n",
              "      <th>1</th>\n",
              "      <td>1</td>\n",
              "      <td>1</td>\n",
              "      <td>0</td>\n",
              "      <td>2017-01-01 00:00:00</td>\n",
              "    </tr>\n",
              "    <tr>\n",
              "      <th>2</th>\n",
              "      <td>2</td>\n",
              "      <td>2</td>\n",
              "      <td>0</td>\n",
              "      <td>2017-01-01 00:00:00</td>\n",
              "    </tr>\n",
              "    <tr>\n",
              "      <th>3</th>\n",
              "      <td>3</td>\n",
              "      <td>3</td>\n",
              "      <td>0</td>\n",
              "      <td>2017-01-01 00:00:00</td>\n",
              "    </tr>\n",
              "    <tr>\n",
              "      <th>4</th>\n",
              "      <td>4</td>\n",
              "      <td>4</td>\n",
              "      <td>0</td>\n",
              "      <td>2017-01-01 00:00:00</td>\n",
              "    </tr>\n",
              "  </tbody>\n",
              "</table>\n",
              "</div>"
            ],
            "text/plain": [
              "   row_id  building_id  meter            timestamp\n",
              "0       0            0      0  2017-01-01 00:00:00\n",
              "1       1            1      0  2017-01-01 00:00:00\n",
              "2       2            2      0  2017-01-01 00:00:00\n",
              "3       3            3      0  2017-01-01 00:00:00\n",
              "4       4            4      0  2017-01-01 00:00:00"
            ]
          },
          "metadata": {
            "tags": []
          },
          "execution_count": 60
        }
      ]
    },
    {
      "cell_type": "code",
      "metadata": {
        "colab_type": "code",
        "id": "90iqK_iZKbqQ",
        "outputId": "a1c0dbab-5d9f-40ef-e916-edf91d609256",
        "colab": {
          "base_uri": "https://localhost:8080/",
          "height": 34
        }
      },
      "source": [
        "test.shape"
      ],
      "execution_count": 0,
      "outputs": [
        {
          "output_type": "execute_result",
          "data": {
            "text/plain": [
              "(41697600, 4)"
            ]
          },
          "metadata": {
            "tags": []
          },
          "execution_count": 61
        }
      ]
    },
    {
      "cell_type": "code",
      "metadata": {
        "colab_type": "code",
        "id": "9cv1fFfAKbno",
        "outputId": "b03c0ec3-5e98-46f3-bf6a-6e13b36757c6",
        "colab": {
          "base_uri": "https://localhost:8080/",
          "height": 34
        }
      },
      "source": [
        "row_ids = test[\"row_id\"]\n",
        "test.drop(\"row_id\", axis=1, inplace=True)\n",
        "test = reduce_mem_usage(test)"
      ],
      "execution_count": 0,
      "outputs": [
        {
          "output_type": "stream",
          "text": [
            "Mem. usage decreased to 437.43 Mb (54.2% reduction)\n"
          ],
          "name": "stdout"
        }
      ]
    },
    {
      "cell_type": "code",
      "metadata": {
        "colab_type": "code",
        "id": "TIIRS3r-Kbj7",
        "colab": {}
      },
      "source": [
        "test = test.merge(building, on=['building_id'], how='left')"
      ],
      "execution_count": 0,
      "outputs": []
    },
    {
      "cell_type": "code",
      "metadata": {
        "colab_type": "code",
        "id": "Eu8pKRqKKbgY",
        "outputId": "e0f6bacb-fcb6-4896-944d-4ad0b263b858",
        "colab": {
          "base_uri": "https://localhost:8080/",
          "height": 402
        }
      },
      "source": [
        "test"
      ],
      "execution_count": 0,
      "outputs": [
        {
          "output_type": "execute_result",
          "data": {
            "text/html": [
              "<div>\n",
              "<style scoped>\n",
              "    .dataframe tbody tr th:only-of-type {\n",
              "        vertical-align: middle;\n",
              "    }\n",
              "\n",
              "    .dataframe tbody tr th {\n",
              "        vertical-align: top;\n",
              "    }\n",
              "\n",
              "    .dataframe thead th {\n",
              "        text-align: right;\n",
              "    }\n",
              "</style>\n",
              "<table border=\"1\" class=\"dataframe\">\n",
              "  <thead>\n",
              "    <tr style=\"text-align: right;\">\n",
              "      <th></th>\n",
              "      <th>building_id</th>\n",
              "      <th>meter</th>\n",
              "      <th>timestamp</th>\n",
              "      <th>site_id</th>\n",
              "      <th>primary_use</th>\n",
              "      <th>square_feet</th>\n",
              "    </tr>\n",
              "  </thead>\n",
              "  <tbody>\n",
              "    <tr>\n",
              "      <th>0</th>\n",
              "      <td>0</td>\n",
              "      <td>0</td>\n",
              "      <td>2017-01-01 00:00:00</td>\n",
              "      <td>0</td>\n",
              "      <td>0</td>\n",
              "      <td>7432</td>\n",
              "    </tr>\n",
              "    <tr>\n",
              "      <th>1</th>\n",
              "      <td>1</td>\n",
              "      <td>0</td>\n",
              "      <td>2017-01-01 00:00:00</td>\n",
              "      <td>0</td>\n",
              "      <td>0</td>\n",
              "      <td>2720</td>\n",
              "    </tr>\n",
              "    <tr>\n",
              "      <th>2</th>\n",
              "      <td>2</td>\n",
              "      <td>0</td>\n",
              "      <td>2017-01-01 00:00:00</td>\n",
              "      <td>0</td>\n",
              "      <td>0</td>\n",
              "      <td>5376</td>\n",
              "    </tr>\n",
              "    <tr>\n",
              "      <th>3</th>\n",
              "      <td>3</td>\n",
              "      <td>0</td>\n",
              "      <td>2017-01-01 00:00:00</td>\n",
              "      <td>0</td>\n",
              "      <td>0</td>\n",
              "      <td>23685</td>\n",
              "    </tr>\n",
              "    <tr>\n",
              "      <th>4</th>\n",
              "      <td>4</td>\n",
              "      <td>0</td>\n",
              "      <td>2017-01-01 00:00:00</td>\n",
              "      <td>0</td>\n",
              "      <td>0</td>\n",
              "      <td>116607</td>\n",
              "    </tr>\n",
              "    <tr>\n",
              "      <th>...</th>\n",
              "      <td>...</td>\n",
              "      <td>...</td>\n",
              "      <td>...</td>\n",
              "      <td>...</td>\n",
              "      <td>...</td>\n",
              "      <td>...</td>\n",
              "    </tr>\n",
              "    <tr>\n",
              "      <th>41697595</th>\n",
              "      <td>1444</td>\n",
              "      <td>0</td>\n",
              "      <td>2018-05-09 07:00:00</td>\n",
              "      <td>15</td>\n",
              "      <td>1</td>\n",
              "      <td>19619</td>\n",
              "    </tr>\n",
              "    <tr>\n",
              "      <th>41697596</th>\n",
              "      <td>1445</td>\n",
              "      <td>0</td>\n",
              "      <td>2018-05-09 07:00:00</td>\n",
              "      <td>15</td>\n",
              "      <td>0</td>\n",
              "      <td>4298</td>\n",
              "    </tr>\n",
              "    <tr>\n",
              "      <th>41697597</th>\n",
              "      <td>1446</td>\n",
              "      <td>0</td>\n",
              "      <td>2018-05-09 07:00:00</td>\n",
              "      <td>15</td>\n",
              "      <td>1</td>\n",
              "      <td>11265</td>\n",
              "    </tr>\n",
              "    <tr>\n",
              "      <th>41697598</th>\n",
              "      <td>1447</td>\n",
              "      <td>0</td>\n",
              "      <td>2018-05-09 07:00:00</td>\n",
              "      <td>15</td>\n",
              "      <td>4</td>\n",
              "      <td>29775</td>\n",
              "    </tr>\n",
              "    <tr>\n",
              "      <th>41697599</th>\n",
              "      <td>1448</td>\n",
              "      <td>0</td>\n",
              "      <td>2018-05-09 07:00:00</td>\n",
              "      <td>15</td>\n",
              "      <td>6</td>\n",
              "      <td>92271</td>\n",
              "    </tr>\n",
              "  </tbody>\n",
              "</table>\n",
              "<p>41697600 rows × 6 columns</p>\n",
              "</div>"
            ],
            "text/plain": [
              "          building_id  meter  ... primary_use  square_feet\n",
              "0                   0      0  ...           0         7432\n",
              "1                   1      0  ...           0         2720\n",
              "2                   2      0  ...           0         5376\n",
              "3                   3      0  ...           0        23685\n",
              "4                   4      0  ...           0       116607\n",
              "...               ...    ...  ...         ...          ...\n",
              "41697595         1444      0  ...           1        19619\n",
              "41697596         1445      0  ...           0         4298\n",
              "41697597         1446      0  ...           1        11265\n",
              "41697598         1447      0  ...           4        29775\n",
              "41697599         1448      0  ...           6        92271\n",
              "\n",
              "[41697600 rows x 6 columns]"
            ]
          },
          "metadata": {
            "tags": []
          },
          "execution_count": 65
        }
      ]
    },
    {
      "cell_type": "code",
      "metadata": {
        "colab_type": "code",
        "id": "2m3vMi70L1Fs",
        "outputId": "ec25d88f-9fb7-414d-8503-b415df789e6d",
        "colab": {
          "base_uri": "https://localhost:8080/",
          "height": 168
        }
      },
      "source": [
        "weather_df = pd.read_csv(path_weather_test)\n",
        "weather_df = fill_weather_dataset(weather_df)\n",
        "weather_df = reduce_mem_usage(weather_df)"
      ],
      "execution_count": 0,
      "outputs": [
        {
          "output_type": "stream",
          "text": [
            "/usr/local/lib/python3.6/dist-packages/ipykernel_launcher.py:15: FutureWarning: Sorting because non-concatenation axis is not aligned. A future version\n",
            "of pandas will change to not sort by default.\n",
            "\n",
            "To accept the future behavior, pass 'sort=False'.\n",
            "\n",
            "To retain the current behavior and silence the warning, pass 'sort=True'.\n",
            "\n",
            "  from ipykernel import kernelapp as app\n"
          ],
          "name": "stderr"
        },
        {
          "output_type": "stream",
          "text": [
            "Mem. usage decreased to  6.15 Mb (68.1% reduction)\n"
          ],
          "name": "stdout"
        }
      ]
    },
    {
      "cell_type": "code",
      "metadata": {
        "colab_type": "code",
        "id": "SBRWFpA0OTrh",
        "colab": {}
      },
      "source": [
        "test = test.merge(weather_df, on=['timestamp', 'site_id'], how='left')"
      ],
      "execution_count": 0,
      "outputs": []
    },
    {
      "cell_type": "code",
      "metadata": {
        "colab_type": "code",
        "id": "i3JQc6OoOToM",
        "outputId": "2eecaaba-4c9e-4c65-e969-77abb7d5d71c",
        "colab": {
          "base_uri": "https://localhost:8080/",
          "height": 758
        }
      },
      "source": [
        "test"
      ],
      "execution_count": 0,
      "outputs": [
        {
          "output_type": "execute_result",
          "data": {
            "text/html": [
              "<div>\n",
              "<style scoped>\n",
              "    .dataframe tbody tr th:only-of-type {\n",
              "        vertical-align: middle;\n",
              "    }\n",
              "\n",
              "    .dataframe tbody tr th {\n",
              "        vertical-align: top;\n",
              "    }\n",
              "\n",
              "    .dataframe thead th {\n",
              "        text-align: right;\n",
              "    }\n",
              "</style>\n",
              "<table border=\"1\" class=\"dataframe\">\n",
              "  <thead>\n",
              "    <tr style=\"text-align: right;\">\n",
              "      <th></th>\n",
              "      <th>building_id</th>\n",
              "      <th>meter</th>\n",
              "      <th>timestamp</th>\n",
              "      <th>site_id</th>\n",
              "      <th>primary_use</th>\n",
              "      <th>square_feet</th>\n",
              "      <th>air_temperature</th>\n",
              "      <th>cloud_coverage</th>\n",
              "      <th>dew_temperature</th>\n",
              "      <th>precip_depth_1_hr</th>\n",
              "      <th>sea_level_pressure</th>\n",
              "      <th>wind_direction</th>\n",
              "      <th>wind_speed</th>\n",
              "    </tr>\n",
              "  </thead>\n",
              "  <tbody>\n",
              "    <tr>\n",
              "      <th>0</th>\n",
              "      <td>0</td>\n",
              "      <td>0</td>\n",
              "      <td>2017-01-01 00:00:00</td>\n",
              "      <td>0</td>\n",
              "      <td>0</td>\n",
              "      <td>7432</td>\n",
              "      <td>17.796875</td>\n",
              "      <td>4.000000</td>\n",
              "      <td>11.703125</td>\n",
              "      <td>0.282715</td>\n",
              "      <td>1021.5</td>\n",
              "      <td>100.000</td>\n",
              "      <td>3.599609</td>\n",
              "    </tr>\n",
              "    <tr>\n",
              "      <th>1</th>\n",
              "      <td>1</td>\n",
              "      <td>0</td>\n",
              "      <td>2017-01-01 00:00:00</td>\n",
              "      <td>0</td>\n",
              "      <td>0</td>\n",
              "      <td>2720</td>\n",
              "      <td>17.796875</td>\n",
              "      <td>4.000000</td>\n",
              "      <td>11.703125</td>\n",
              "      <td>0.282715</td>\n",
              "      <td>1021.5</td>\n",
              "      <td>100.000</td>\n",
              "      <td>3.599609</td>\n",
              "    </tr>\n",
              "    <tr>\n",
              "      <th>2</th>\n",
              "      <td>2</td>\n",
              "      <td>0</td>\n",
              "      <td>2017-01-01 00:00:00</td>\n",
              "      <td>0</td>\n",
              "      <td>0</td>\n",
              "      <td>5376</td>\n",
              "      <td>17.796875</td>\n",
              "      <td>4.000000</td>\n",
              "      <td>11.703125</td>\n",
              "      <td>0.282715</td>\n",
              "      <td>1021.5</td>\n",
              "      <td>100.000</td>\n",
              "      <td>3.599609</td>\n",
              "    </tr>\n",
              "    <tr>\n",
              "      <th>3</th>\n",
              "      <td>3</td>\n",
              "      <td>0</td>\n",
              "      <td>2017-01-01 00:00:00</td>\n",
              "      <td>0</td>\n",
              "      <td>0</td>\n",
              "      <td>23685</td>\n",
              "      <td>17.796875</td>\n",
              "      <td>4.000000</td>\n",
              "      <td>11.703125</td>\n",
              "      <td>0.282715</td>\n",
              "      <td>1021.5</td>\n",
              "      <td>100.000</td>\n",
              "      <td>3.599609</td>\n",
              "    </tr>\n",
              "    <tr>\n",
              "      <th>4</th>\n",
              "      <td>4</td>\n",
              "      <td>0</td>\n",
              "      <td>2017-01-01 00:00:00</td>\n",
              "      <td>0</td>\n",
              "      <td>0</td>\n",
              "      <td>116607</td>\n",
              "      <td>17.796875</td>\n",
              "      <td>4.000000</td>\n",
              "      <td>11.703125</td>\n",
              "      <td>0.282715</td>\n",
              "      <td>1021.5</td>\n",
              "      <td>100.000</td>\n",
              "      <td>3.599609</td>\n",
              "    </tr>\n",
              "    <tr>\n",
              "      <th>...</th>\n",
              "      <td>...</td>\n",
              "      <td>...</td>\n",
              "      <td>...</td>\n",
              "      <td>...</td>\n",
              "      <td>...</td>\n",
              "      <td>...</td>\n",
              "      <td>...</td>\n",
              "      <td>...</td>\n",
              "      <td>...</td>\n",
              "      <td>...</td>\n",
              "      <td>...</td>\n",
              "      <td>...</td>\n",
              "      <td>...</td>\n",
              "    </tr>\n",
              "    <tr>\n",
              "      <th>41697595</th>\n",
              "      <td>1444</td>\n",
              "      <td>0</td>\n",
              "      <td>2018-05-09 07:00:00</td>\n",
              "      <td>15</td>\n",
              "      <td>1</td>\n",
              "      <td>19619</td>\n",
              "      <td>12.031250</td>\n",
              "      <td>1.727539</td>\n",
              "      <td>3.355469</td>\n",
              "      <td>-1.000000</td>\n",
              "      <td>1017.0</td>\n",
              "      <td>184.875</td>\n",
              "      <td>2.703125</td>\n",
              "    </tr>\n",
              "    <tr>\n",
              "      <th>41697596</th>\n",
              "      <td>1445</td>\n",
              "      <td>0</td>\n",
              "      <td>2018-05-09 07:00:00</td>\n",
              "      <td>15</td>\n",
              "      <td>0</td>\n",
              "      <td>4298</td>\n",
              "      <td>12.031250</td>\n",
              "      <td>1.727539</td>\n",
              "      <td>3.355469</td>\n",
              "      <td>-1.000000</td>\n",
              "      <td>1017.0</td>\n",
              "      <td>184.875</td>\n",
              "      <td>2.703125</td>\n",
              "    </tr>\n",
              "    <tr>\n",
              "      <th>41697597</th>\n",
              "      <td>1446</td>\n",
              "      <td>0</td>\n",
              "      <td>2018-05-09 07:00:00</td>\n",
              "      <td>15</td>\n",
              "      <td>1</td>\n",
              "      <td>11265</td>\n",
              "      <td>12.031250</td>\n",
              "      <td>1.727539</td>\n",
              "      <td>3.355469</td>\n",
              "      <td>-1.000000</td>\n",
              "      <td>1017.0</td>\n",
              "      <td>184.875</td>\n",
              "      <td>2.703125</td>\n",
              "    </tr>\n",
              "    <tr>\n",
              "      <th>41697598</th>\n",
              "      <td>1447</td>\n",
              "      <td>0</td>\n",
              "      <td>2018-05-09 07:00:00</td>\n",
              "      <td>15</td>\n",
              "      <td>4</td>\n",
              "      <td>29775</td>\n",
              "      <td>12.031250</td>\n",
              "      <td>1.727539</td>\n",
              "      <td>3.355469</td>\n",
              "      <td>-1.000000</td>\n",
              "      <td>1017.0</td>\n",
              "      <td>184.875</td>\n",
              "      <td>2.703125</td>\n",
              "    </tr>\n",
              "    <tr>\n",
              "      <th>41697599</th>\n",
              "      <td>1448</td>\n",
              "      <td>0</td>\n",
              "      <td>2018-05-09 07:00:00</td>\n",
              "      <td>15</td>\n",
              "      <td>6</td>\n",
              "      <td>92271</td>\n",
              "      <td>12.031250</td>\n",
              "      <td>1.727539</td>\n",
              "      <td>3.355469</td>\n",
              "      <td>-1.000000</td>\n",
              "      <td>1017.0</td>\n",
              "      <td>184.875</td>\n",
              "      <td>2.703125</td>\n",
              "    </tr>\n",
              "  </tbody>\n",
              "</table>\n",
              "<p>41697600 rows × 13 columns</p>\n",
              "</div>"
            ],
            "text/plain": [
              "          building_id  meter  ... wind_direction  wind_speed\n",
              "0                   0      0  ...        100.000    3.599609\n",
              "1                   1      0  ...        100.000    3.599609\n",
              "2                   2      0  ...        100.000    3.599609\n",
              "3                   3      0  ...        100.000    3.599609\n",
              "4                   4      0  ...        100.000    3.599609\n",
              "...               ...    ...  ...            ...         ...\n",
              "41697595         1444      0  ...        184.875    2.703125\n",
              "41697596         1445      0  ...        184.875    2.703125\n",
              "41697597         1446      0  ...        184.875    2.703125\n",
              "41697598         1447      0  ...        184.875    2.703125\n",
              "41697599         1448      0  ...        184.875    2.703125\n",
              "\n",
              "[41697600 rows x 13 columns]"
            ]
          },
          "metadata": {
            "tags": []
          },
          "execution_count": 68
        }
      ]
    },
    {
      "cell_type": "code",
      "metadata": {
        "colab_type": "code",
        "id": "gVXpheXoOTlI",
        "colab": {}
      },
      "source": [
        "###### scale fichier test\n",
        "\n",
        "test.timestamp = pd.to_datetime(test.timestamp, format=\"%Y-%m-%d %H:%M:%S\")\n",
        "test['month'] = test['timestamp'].dt.month\n",
        "test['day'] = test['timestamp'].dt.weekday\n",
        "test['year'] = test['timestamp'].dt.year\n",
        "test['hour'] = test['timestamp'].dt.hour\n",
        "\n",
        "test['square_feet'] = test['square_feet'].astype('float32')\n",
        "test['square_feet'] -= test['square_feet'].mean(axis=0)\n",
        "\n",
        "std = test['square_feet'].std(axis=0)\n",
        "test['square_feet'] /= test['square_feet'].std(axis=0)\n",
        "\n",
        "weather_scale = ['air_temperature', 'cloud_coverage', 'dew_temperature', 'sea_level_pressure', 'wind_speed']\n",
        "test[weather_scale] = test[weather_scale].astype('float32')\n",
        "test[weather_scale] -= test[weather_scale].mean(axis=0)\n",
        "std = test[weather_scale].std(axis=0)\n",
        "test[weather_scale] /= test[weather_scale].std(axis=0)\n",
        "\n",
        "test['wind_direction'+'_sin'] = np.sin((2*np.pi*test['wind_direction'])/360)\n",
        "test['wind_direction'+'_cos'] = np.cos((2*np.pi*test['wind_direction'])/360)\n",
        "test = test.drop(['wind_direction'], axis=1)\n",
        "\n",
        "test.drop(['timestamp','year','hour'], axis= 1, inplace = True)"
      ],
      "execution_count": 0,
      "outputs": []
    },
    {
      "cell_type": "code",
      "metadata": {
        "colab_type": "code",
        "id": "47OEcbzNOTiJ",
        "outputId": "cfe98f50-7951-4beb-b44b-cf9c7ec4a1c2",
        "colab": {
          "base_uri": "https://localhost:8080/",
          "height": 422
        }
      },
      "source": [
        "test"
      ],
      "execution_count": 0,
      "outputs": [
        {
          "output_type": "execute_result",
          "data": {
            "text/html": [
              "<div>\n",
              "<style scoped>\n",
              "    .dataframe tbody tr th:only-of-type {\n",
              "        vertical-align: middle;\n",
              "    }\n",
              "\n",
              "    .dataframe tbody tr th {\n",
              "        vertical-align: top;\n",
              "    }\n",
              "\n",
              "    .dataframe thead th {\n",
              "        text-align: right;\n",
              "    }\n",
              "</style>\n",
              "<table border=\"1\" class=\"dataframe\">\n",
              "  <thead>\n",
              "    <tr style=\"text-align: right;\">\n",
              "      <th></th>\n",
              "      <th>building_id</th>\n",
              "      <th>meter</th>\n",
              "      <th>site_id</th>\n",
              "      <th>primary_use</th>\n",
              "      <th>square_feet</th>\n",
              "      <th>air_temperature</th>\n",
              "      <th>cloud_coverage</th>\n",
              "      <th>dew_temperature</th>\n",
              "      <th>precip_depth_1_hr</th>\n",
              "      <th>sea_level_pressure</th>\n",
              "      <th>wind_speed</th>\n",
              "      <th>month</th>\n",
              "      <th>day</th>\n",
              "      <th>wind_direction_sin</th>\n",
              "      <th>wind_direction_cos</th>\n",
              "    </tr>\n",
              "  </thead>\n",
              "  <tbody>\n",
              "    <tr>\n",
              "      <th>0</th>\n",
              "      <td>0</td>\n",
              "      <td>0</td>\n",
              "      <td>0</td>\n",
              "      <td>0</td>\n",
              "      <td>-0.780344</td>\n",
              "      <td>0.448682</td>\n",
              "      <td>1.053375</td>\n",
              "      <td>0.415485</td>\n",
              "      <td>0.282715</td>\n",
              "      <td>2.669734</td>\n",
              "      <td>0.226331</td>\n",
              "      <td>1</td>\n",
              "      <td>6</td>\n",
              "      <td>0.984961</td>\n",
              "      <td>-0.172777</td>\n",
              "    </tr>\n",
              "    <tr>\n",
              "      <th>1</th>\n",
              "      <td>1</td>\n",
              "      <td>0</td>\n",
              "      <td>0</td>\n",
              "      <td>0</td>\n",
              "      <td>-0.823891</td>\n",
              "      <td>0.448682</td>\n",
              "      <td>1.053375</td>\n",
              "      <td>0.415485</td>\n",
              "      <td>0.282715</td>\n",
              "      <td>2.669734</td>\n",
              "      <td>0.226331</td>\n",
              "      <td>1</td>\n",
              "      <td>6</td>\n",
              "      <td>0.984961</td>\n",
              "      <td>-0.172777</td>\n",
              "    </tr>\n",
              "    <tr>\n",
              "      <th>2</th>\n",
              "      <td>2</td>\n",
              "      <td>0</td>\n",
              "      <td>0</td>\n",
              "      <td>0</td>\n",
              "      <td>-0.799345</td>\n",
              "      <td>0.448682</td>\n",
              "      <td>1.053375</td>\n",
              "      <td>0.415485</td>\n",
              "      <td>0.282715</td>\n",
              "      <td>2.669734</td>\n",
              "      <td>0.226331</td>\n",
              "      <td>1</td>\n",
              "      <td>6</td>\n",
              "      <td>0.984961</td>\n",
              "      <td>-0.172777</td>\n",
              "    </tr>\n",
              "    <tr>\n",
              "      <th>3</th>\n",
              "      <td>3</td>\n",
              "      <td>0</td>\n",
              "      <td>0</td>\n",
              "      <td>0</td>\n",
              "      <td>-0.630138</td>\n",
              "      <td>0.448682</td>\n",
              "      <td>1.053375</td>\n",
              "      <td>0.415485</td>\n",
              "      <td>0.282715</td>\n",
              "      <td>2.669734</td>\n",
              "      <td>0.226331</td>\n",
              "      <td>1</td>\n",
              "      <td>6</td>\n",
              "      <td>0.984961</td>\n",
              "      <td>-0.172777</td>\n",
              "    </tr>\n",
              "    <tr>\n",
              "      <th>4</th>\n",
              "      <td>4</td>\n",
              "      <td>0</td>\n",
              "      <td>0</td>\n",
              "      <td>0</td>\n",
              "      <td>0.228620</td>\n",
              "      <td>0.448682</td>\n",
              "      <td>1.053375</td>\n",
              "      <td>0.415485</td>\n",
              "      <td>0.282715</td>\n",
              "      <td>2.669734</td>\n",
              "      <td>0.226331</td>\n",
              "      <td>1</td>\n",
              "      <td>6</td>\n",
              "      <td>0.984961</td>\n",
              "      <td>-0.172777</td>\n",
              "    </tr>\n",
              "    <tr>\n",
              "      <th>...</th>\n",
              "      <td>...</td>\n",
              "      <td>...</td>\n",
              "      <td>...</td>\n",
              "      <td>...</td>\n",
              "      <td>...</td>\n",
              "      <td>...</td>\n",
              "      <td>...</td>\n",
              "      <td>...</td>\n",
              "      <td>...</td>\n",
              "      <td>...</td>\n",
              "      <td>...</td>\n",
              "      <td>...</td>\n",
              "      <td>...</td>\n",
              "      <td>...</td>\n",
              "      <td>...</td>\n",
              "    </tr>\n",
              "    <tr>\n",
              "      <th>41697595</th>\n",
              "      <td>1444</td>\n",
              "      <td>0</td>\n",
              "      <td>15</td>\n",
              "      <td>1</td>\n",
              "      <td>-0.667715</td>\n",
              "      <td>-0.088537</td>\n",
              "      <td>-0.015481</td>\n",
              "      <td>-0.403610</td>\n",
              "      <td>-1.000000</td>\n",
              "      <td>2.642022</td>\n",
              "      <td>-0.210071</td>\n",
              "      <td>5</td>\n",
              "      <td>2</td>\n",
              "      <td>-0.083311</td>\n",
              "      <td>-0.996524</td>\n",
              "    </tr>\n",
              "    <tr>\n",
              "      <th>41697596</th>\n",
              "      <td>1445</td>\n",
              "      <td>0</td>\n",
              "      <td>15</td>\n",
              "      <td>0</td>\n",
              "      <td>-0.809307</td>\n",
              "      <td>-0.088537</td>\n",
              "      <td>-0.015481</td>\n",
              "      <td>-0.403610</td>\n",
              "      <td>-1.000000</td>\n",
              "      <td>2.642022</td>\n",
              "      <td>-0.210071</td>\n",
              "      <td>5</td>\n",
              "      <td>2</td>\n",
              "      <td>-0.083311</td>\n",
              "      <td>-0.996524</td>\n",
              "    </tr>\n",
              "    <tr>\n",
              "      <th>41697597</th>\n",
              "      <td>1446</td>\n",
              "      <td>0</td>\n",
              "      <td>15</td>\n",
              "      <td>1</td>\n",
              "      <td>-0.744920</td>\n",
              "      <td>-0.088537</td>\n",
              "      <td>-0.015481</td>\n",
              "      <td>-0.403610</td>\n",
              "      <td>-1.000000</td>\n",
              "      <td>2.642022</td>\n",
              "      <td>-0.210071</td>\n",
              "      <td>5</td>\n",
              "      <td>2</td>\n",
              "      <td>-0.083311</td>\n",
              "      <td>-0.996524</td>\n",
              "    </tr>\n",
              "    <tr>\n",
              "      <th>41697598</th>\n",
              "      <td>1447</td>\n",
              "      <td>0</td>\n",
              "      <td>15</td>\n",
              "      <td>4</td>\n",
              "      <td>-0.573856</td>\n",
              "      <td>-0.088537</td>\n",
              "      <td>-0.015481</td>\n",
              "      <td>-0.403610</td>\n",
              "      <td>-1.000000</td>\n",
              "      <td>2.642022</td>\n",
              "      <td>-0.210071</td>\n",
              "      <td>5</td>\n",
              "      <td>2</td>\n",
              "      <td>-0.083311</td>\n",
              "      <td>-0.996524</td>\n",
              "    </tr>\n",
              "    <tr>\n",
              "      <th>41697599</th>\n",
              "      <td>1448</td>\n",
              "      <td>0</td>\n",
              "      <td>15</td>\n",
              "      <td>6</td>\n",
              "      <td>0.003714</td>\n",
              "      <td>-0.088537</td>\n",
              "      <td>-0.015481</td>\n",
              "      <td>-0.403610</td>\n",
              "      <td>-1.000000</td>\n",
              "      <td>2.642022</td>\n",
              "      <td>-0.210071</td>\n",
              "      <td>5</td>\n",
              "      <td>2</td>\n",
              "      <td>-0.083311</td>\n",
              "      <td>-0.996524</td>\n",
              "    </tr>\n",
              "  </tbody>\n",
              "</table>\n",
              "<p>41697600 rows × 15 columns</p>\n",
              "</div>"
            ],
            "text/plain": [
              "          building_id  meter  ...  wind_direction_sin  wind_direction_cos\n",
              "0                   0      0  ...            0.984961           -0.172777\n",
              "1                   1      0  ...            0.984961           -0.172777\n",
              "2                   2      0  ...            0.984961           -0.172777\n",
              "3                   3      0  ...            0.984961           -0.172777\n",
              "4                   4      0  ...            0.984961           -0.172777\n",
              "...               ...    ...  ...                 ...                 ...\n",
              "41697595         1444      0  ...           -0.083311           -0.996524\n",
              "41697596         1445      0  ...           -0.083311           -0.996524\n",
              "41697597         1446      0  ...           -0.083311           -0.996524\n",
              "41697598         1447      0  ...           -0.083311           -0.996524\n",
              "41697599         1448      0  ...           -0.083311           -0.996524\n",
              "\n",
              "[41697600 rows x 15 columns]"
            ]
          },
          "metadata": {
            "tags": []
          },
          "execution_count": 71
        }
      ]
    },
    {
      "cell_type": "code",
      "metadata": {
        "colab_type": "code",
        "id": "S6c4F1aXyhyG",
        "colab": {}
      },
      "source": [
        ""
      ],
      "execution_count": 0,
      "outputs": []
    },
    {
      "cell_type": "code",
      "metadata": {
        "colab_type": "code",
        "id": "6Wq7sz1Eyhsd",
        "colab": {}
      },
      "source": [
        "### reshape data for the LSTM architecture\n",
        "\n",
        "#reshapeTest = test.values\n",
        "#reshapeTest = reshapeTest.reshape((reshapeTest.shape[0], 1, reshapeTest.shape[1]))"
      ],
      "execution_count": 0,
      "outputs": []
    },
    {
      "cell_type": "code",
      "metadata": {
        "colab_type": "code",
        "id": "GaMV4jjZyhwL",
        "colab": {}
      },
      "source": [
        "# prediction = model.predict(test)"
      ],
      "execution_count": 0,
      "outputs": []
    },
    {
      "cell_type": "code",
      "metadata": {
        "colab_type": "code",
        "id": "i1T0VcbJyhqC",
        "colab": {}
      },
      "source": [
        "# prediction = np.expm1(prediction)"
      ],
      "execution_count": 0,
      "outputs": []
    },
    {
      "cell_type": "code",
      "metadata": {
        "colab_type": "code",
        "id": "X2VZ-6lSyhoR",
        "colab": {}
      },
      "source": [
        ""
      ],
      "execution_count": 0,
      "outputs": []
    },
    {
      "cell_type": "code",
      "metadata": {
        "colab_type": "code",
        "id": "X_FIlf4DyhlZ",
        "colab": {}
      },
      "source": [
        ""
      ],
      "execution_count": 0,
      "outputs": []
    },
    {
      "cell_type": "code",
      "metadata": {
        "colab_type": "code",
        "id": "LfXhNcxaR023",
        "colab": {}
      },
      "source": [
        ""
      ],
      "execution_count": 0,
      "outputs": []
    }
  ]
}